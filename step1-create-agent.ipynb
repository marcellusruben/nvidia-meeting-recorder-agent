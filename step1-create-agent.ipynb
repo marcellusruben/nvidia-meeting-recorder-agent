{
 "cells": [
  {
   "cell_type": "markdown",
   "metadata": {},
   "source": [
    "# AI Meeting Recorder Agent Setup\n",
    "\n",
    "This notebook demonstrates how to register an AI Meeting Recorder Agent with Xpander Cloud. The agent is designed to record meetings, check recording status, send email notifications, and create calendar events.\n",
    "\n",
    "## Prerequisites\n",
    "\n",
    "Before running this notebook, ensure you have:\n",
    "1. An Xpander Cloud account with API access\n",
    "2. A `.env` file containing your `XPANDER_API_KEY`\n",
    "3. Required Python packages installed"
   ]
  },
  {
   "cell_type": "markdown",
   "metadata": {},
   "source": [
    "## 1. Setup and Environment Configuration\n",
    "\n",
    "First, let's import the required libraries and load our environment variables."
   ]
  },
  {
   "cell_type": "code",
   "execution_count": 2,
   "metadata": {},
   "outputs": [
    {
     "name": "stdout",
     "output_type": "stream",
     "text": [
      "✅ XPANDER_API_KEY loaded successfully\n"
     ]
    }
   ],
   "source": [
    "\"\"\"AI Meeting Recorder Agent registration script for Xpander Cloud.\"\"\"\n",
    "import os\n",
    "import json\n",
    "from xpander_sdk import XpanderClient, GraphItem, AgentGraphItemType\n",
    "from dotenv import load_dotenv\n",
    "\n",
    "# Load environment variables\n",
    "load_dotenv()\n",
    "\n",
    "# Verify API key is available\n",
    "xpander_api_key = os.environ.get(\"XPANDER_API_KEY\")\n",
    "if not xpander_api_key:\n",
    "    print(\"❗️ Missing XPANDER_API_KEY in .env file\")\n",
    "else:\n",
    "    print(\"✅ XPANDER_API_KEY loaded successfully\")\n",
    "\n",
    "# Initialize Xpander client\n",
    "xpander_client = XpanderClient(api_key=xpander_api_key)"
   ]
  },
  {
   "cell_type": "markdown",
   "metadata": {},
   "source": [
    "## 2. Load Agent Configuration\n",
    "\n",
    "The agent configuration is stored in a JSON file that contains the agent name and the tools it needs to function."
   ]
  },
  {
   "cell_type": "code",
   "execution_count": 3,
   "metadata": {},
   "outputs": [
    {
     "name": "stdout",
     "output_type": "stream",
     "text": [
      "Using config file: agent_config.json\n",
      "Agent name: AI Meeting Recorder Agent\n",
      "Number of tools: 4\n",
      "\n",
      "Tool 1:\n",
      "  Interface: xpanderai tools\n",
      "  Internal Name: XpanderMeetingManagementCreateRecordingBot\n",
      "  Path: /business/meeting/create_recorder\n",
      "\n",
      "Tool 2:\n",
      "  Interface: xpanderai tools\n",
      "  Internal Name: XpanderMeetingManagementCheckRecorderStatus\n",
      "  Path: /business/meeting/status/{recorder_id}\n",
      "\n",
      "Tool 3:\n",
      "  Interface: xpanderai tools\n",
      "  Internal Name: XpanderMessagingServiceSendEmailWithContent\n",
      "  Path: /messaging/send_email\n",
      "\n",
      "Tool 4:\n",
      "  Interface: google-calendar\n",
      "  Internal Name: CalendarEventManagementCreateEventInCalendarById\n",
      "  Path: /calendars/{calendarId}/events\n"
     ]
    }
   ],
   "source": [
    "# Load configuration from file\n",
    "config_path = \"agent_config.json\"  # You can change this to a custom path\n",
    "\n",
    "try:\n",
    "    with open(config_path, \"r\") as f:\n",
    "        config = json.load(f)\n",
    "    \n",
    "    agent_name = config.get(\"agent_name\")\n",
    "    tools = config.get(\"tools\", [])\n",
    "    print(f\"Using config file: {config_path}\")\n",
    "    print(f\"Agent name: {agent_name}\")\n",
    "    print(f\"Number of tools: {len(tools)}\")\n",
    "    \n",
    "    # Display the tools configuration\n",
    "    for i, tool in enumerate(tools, 1):\n",
    "        print(f\"\\nTool {i}:\")\n",
    "        print(f\"  Interface: {tool.get('interface')}\")\n",
    "        print(f\"  Internal Name: {tool.get('internal_name')}\")\n",
    "        print(f\"  Path: {tool.get('path')}\")\n",
    "except (FileNotFoundError, json.JSONDecodeError) as e:\n",
    "    print(f\"❌ Error loading config: {e}\")"
   ]
  },
  {
   "cell_type": "markdown",
   "metadata": {},
   "source": [
    "## 3. Get or Create Agent\n",
    "\n",
    "This section checks if an agent ID exists in the environment variables. If it does, we use the existing agent. If not, we create a new one and update the `.env` file with the new agent ID."
   ]
  },
  {
   "cell_type": "code",
   "execution_count": null,
   "metadata": {},
   "outputs": [
    {
     "name": "stdout",
     "output_type": "stream",
     "text": [
      "Created new agent: AI Meeting Recorder Agent (ID: 6bb96105-3675-4d79-9dd3-8ae146cff007)\n"
     ]
    }
   ],
   "source": [
    "# Get existing agent ID from environment or create a new agent\n",
    "agent_id = os.environ.get(\"XPANDER_AGENT_ID\")\n",
    "\n",
    "try:\n",
    "    if agent_id:\n",
    "        agent = xpander_client.agents.get(agent_id=agent_id)\n",
    "        print(f\"Using existing agent: {agent.name} (ID: {agent.id})\")\n",
    "    else:\n",
    "        agent = xpander_client.agents.create(name=agent_name)\n",
    "        agent_id = agent.id\n",
    "        \n",
    "        # Update .env with new agent ID ## Optional\n",
    "        with open(\".env\", \"r\") as f:\n",
    "            env_content = f.read()\n",
    "        with open(\".env\", \"w\") as f:\n",
    "            if \"XPANDER_AGENT_ID\" in env_content:\n",
    "                f.write(\"\\n\".join([line if not line.startswith(\"XPANDER_AGENT_ID=\") \n",
    "                                 else f\"XPANDER_AGENT_ID={agent.id}\" for line in env_content.splitlines()]))\n",
    "            else:\n",
    "                f.write(f\"{env_content}\\nXPANDER_AGENT_ID={agent.id}\")\n",
    "        print(f\"Created new agent: {agent.name} (ID: {agent.id})\")\n",
    "except Exception as e:\n",
    "    print(f\"❌ Error with agent: {e}\")"
   ]
  },
  {
   "cell_type": "markdown",
   "metadata": {},
   "source": [
    "## 4. Retrieve Available Interfaces\n",
    "\n",
    "Here we retrieve all the agentic interfaces available in the Xpander tenant. These interfaces contain the operations we can add as tools to our agent."
   ]
  },
  {
   "cell_type": "code",
   "execution_count": 18,
   "metadata": {},
   "outputs": [
    {
     "name": "stdout",
     "output_type": "stream",
     "text": [
      "Found 24 available interfaces:\n",
      "  - company monitor\n",
      "  - social media\n",
      "  - movie database\n",
      "  - arxiv\n",
      "  - zillow\n",
      "  - weather\n",
      "  - firecrawl\n",
      "  - hackernews\n",
      "  - similarweb\n",
      "  - live sports data\n",
      "  - midjourney\n",
      "  - market insights\n",
      "  - reddit\n",
      "  - amazon retail data\n",
      "  - xpanderai tools\n",
      "  - fibery-demo\n",
      "  - google-drive-sandbox\n",
      "  - google-sheets-sandbox\n",
      "  - google-calendar-sandbox\n",
      "  - gmail-sandbox\n",
      "  - notion-sandbox\n",
      "  - xpander-datadog\n",
      "  - xpander-github-production\n",
      "  - xpander sandbox's personal slack\n"
     ]
    }
   ],
   "source": [
    "agent = xpander_client.agents.get(agent_id=agent_id)\n",
    "\n",
    "# Retrieve available interfaces\n",
    "try:\n",
    "    interfaces = {}\n",
    "    for interface in agent.retrieve_agentic_interfaces():\n",
    "        name = getattr(interface, 'name', '').lower()\n",
    "        interfaces[name] = interface\n",
    "    \n",
    "    print(f\"Found {len(interfaces)} available interfaces:\")\n",
    "    for name in interfaces.keys():\n",
    "        print(f\"  - {name}\")\n",
    "except Exception as e:\n",
    "    print(f\"Error retrieving interfaces: {e}\")\n",
    "    # For demonstration, creating some dummy interfaces\n",
    "    print(\"\\nFor demonstration, using example interfaces:\")\n",
    "    print(\"  - xpanderai tools\")\n",
    "    print(\"  - google-calendar\")"
   ]
  },
  {
   "cell_type": "markdown",
   "metadata": {},
   "source": [
    "## 5. Get Existing Tools\n",
    "\n",
    "Check which tools are already attached to the agent to avoid duplicates."
   ]
  },
  {
   "cell_type": "code",
   "execution_count": 19,
   "metadata": {},
   "outputs": [
    {
     "name": "stdout",
     "output_type": "stream",
     "text": [
      "Found 1 existing tools:\n",
      "  - xpfinish-agent-execution-finished\n"
     ]
    }
   ],
   "source": [
    "# Get existing tools\n",
    "existing_tools = {}\n",
    "try:\n",
    "    if 'agent' in locals():\n",
    "        tools_list = agent.get_tools() or []\n",
    "        for tool in tools_list:\n",
    "            if isinstance(tool, dict) and 'function' in tool and isinstance(tool['function'], dict):\n",
    "                fn = tool['function']\n",
    "                name = fn.get('name')\n",
    "                if name:\n",
    "                    existing_tools[name] = True\n",
    "        print(f\"Found {len(existing_tools)} existing tools:\")\n",
    "        for name in existing_tools.keys():\n",
    "            print(f\"  - {name}\")\n",
    "except Exception as e:\n",
    "    print(f\"Error getting existing tools: {e}\")"
   ]
  },
  {
   "cell_type": "markdown",
   "metadata": {},
   "source": [
    "## 6. Process Tools from Configuration\n",
    "\n",
    "This section identifies which tools from our configuration need to be added to the agent."
   ]
  },
  {
   "cell_type": "code",
   "execution_count": 20,
   "metadata": {},
   "outputs": [
    {
     "name": "stdout",
     "output_type": "stream",
     "text": [
      "Found interface: xpanderai tools\n",
      "+ Found tool by path: /business/meeting/create_recorder\n",
      "+ Will add tool: Create Meeting Recording Bot\n",
      "Found interface: xpanderai tools\n",
      "+ Found tool by path: /business/meeting/status/{recorder_id}\n",
      "+ Will add tool: Check Recorder Status\n",
      "Found interface: xpanderai tools\n",
      "+ Found tool by path: /messaging/send_email\n",
      "+ Will add tool: Send Email with Content\n",
      "Found interface: google-calendar-sandbox\n",
      "+ Found tool by path: /calendars/{calendarId}/events\n",
      "+ Will add tool: Create Event in Calendar by ID\n"
     ]
    }
   ],
   "source": [
    "# Process tools from config\n",
    "to_add = []\n",
    "missing = []\n",
    "\n",
    "if 'tools' in locals() and 'interfaces' in locals() and 'agent' in locals():\n",
    "    for tool_config in tools:\n",
    "        interface_name = tool_config.get(\"interface\", \"\").lower()\n",
    "        internal_name = tool_config.get(\"internal_name\", \"\")\n",
    "        path = tool_config.get(\"path\", \"\")\n",
    "        \n",
    "        if not internal_name:\n",
    "            print(f\"⚠️ Missing internal_name in tool config\")\n",
    "            continue\n",
    "            \n",
    "        if internal_name in existing_tools:\n",
    "            print(f\"✓ Tool already exists: {internal_name}\")\n",
    "            continue\n",
    "        \n",
    "        # Find interface (case insensitive partial match)\n",
    "        interface = None\n",
    "        for name, intf in interfaces.items():\n",
    "            if interface_name in name:\n",
    "                interface = intf\n",
    "                print(f\"Found interface: {name}\")\n",
    "                break\n",
    "                \n",
    "        if not interface:\n",
    "            print(f\"⚠️ Interface not found: {interface_name}\")\n",
    "            missing.append(internal_name)\n",
    "            continue\n",
    "            \n",
    "        try:\n",
    "            operations = agent.retrieve_agentic_operations(agentic_interface=interface)\n",
    "            \n",
    "            # Try to find by path if available in config\n",
    "            operation = None\n",
    "            if path:\n",
    "                operation = next((op for op in operations if hasattr(op, 'path') and op.path == path), None)\n",
    "                if operation:\n",
    "                    print(f\"+ Found tool by path: {path}\")\n",
    "                    print(f\"+ Will add tool: {operation.name}\")\n",
    "                    to_add.append(operation)\n",
    "                else:\n",
    "                    print(f\"❌ Operation not found with path: {path}\")\n",
    "                    missing.append(internal_name)\n",
    "            else:\n",
    "                print(f\"❌ No path specified for: {internal_name}\")\n",
    "                missing.append(internal_name)\n",
    "        except Exception as e:\n",
    "            print(f\"Error retrieving operations: {e}\")\n",
    "            missing.append(internal_name)\n",
    "else:\n",
    "    print(\"Skipping tool processing for demonstration purposes\")\n",
    "    print(\"In a real run, this would identify tools to add and missing tools\")"
   ]
  },
  {
   "cell_type": "markdown",
   "metadata": {},
   "source": [
    "## 7. Add Tools to Agent\n",
    "\n",
    "Finally, we add the identified tools to the agent and update its graph representation."
   ]
  },
  {
   "cell_type": "code",
   "execution_count": 22,
   "metadata": {},
   "outputs": [
    {
     "name": "stdout",
     "output_type": "stream",
     "text": [
      "adding 4 tools to the agent\n",
      "✅ Successfully added 4 tools\n"
     ]
    }
   ],
   "source": [
    "# Add tools if needed\n",
    "if to_add:\n",
    "    try:\n",
    "        print(f\"adding {len(to_add)} tools to the agent\")\n",
    "        agent.attach_operations(operations=to_add)\n",
    "        for op in to_add:\n",
    "            agent.graph.add_node(GraphItem(\n",
    "                agent=agent, item_id=op.id_to_use_on_graph, \n",
    "                name=op.name, type=AgentGraphItemType.TOOL, is_local_tool=False\n",
    "            ))\n",
    "        agent.sync()\n",
    "        print(f\"✅ Successfully added {len(to_add)} tools\")\n",
    "    except Exception as e:\n",
    "        print(f\"❌ Error adding tools: {e}\")\n",
    "else:\n",
    "    print(\"No tools to add or skipping for demonstration\")"
   ]
  },
  {
   "cell_type": "markdown",
   "metadata": {},
   "source": [
    "## 8. Summary\n",
    "\n",
    "Let's print a summary of what we've done and provide links to the agent in the Xpander dashboard."
   ]
  },
  {
   "cell_type": "code",
   "execution_count": 25,
   "metadata": {},
   "outputs": [
    {
     "name": "stdout",
     "output_type": "stream",
     "text": [
      "\n",
      "Agent setup complete!\n",
      "Go to: https://app.xpander.ai/agents/6bb96105-3675-4d79-9dd3-8ae146cff007\n"
     ]
    }
   ],
   "source": [
    "# Print summary\n",
    "print(f\"\\nAgent setup complete!\")\n",
    "print(f\"Go to: https://app.xpander.ai/agents/{agent.id}\")\n",
    "\n",
    "if missing:\n",
    "    print(\"\\nSome tools were not found. To find the exact internal names and paths:\")\n",
    "    print(\"python find_operations.py <search_term> --format config --output new_config.json\")"
   ]
  },
  {
   "cell_type": "markdown",
   "metadata": {},
   "source": [
    "## Next Steps\n",
    "\n",
    "Once your agent is set up with the appropriate tools, you can:\n",
    "\n",
    "1. Test the agent by creating a meeting recording\n",
    "2. Monitor recording status\n",
    "3. Set up email notifications for completed recordings\n",
    "4. Schedule follow-up calendar events\n",
    "\n",
    "Visit the [Xpander documentation](https://docs.xpander.ai) for more information on working with agents and tools."
   ]
  }
 ],
 "metadata": {
  "kernelspec": {
   "display_name": ".venv",
   "language": "python",
   "name": "python3"
  },
  "language_info": {
   "codemirror_mode": {
    "name": "ipython",
    "version": 3
   },
   "file_extension": ".py",
   "mimetype": "text/x-python",
   "name": "python",
   "nbconvert_exporter": "python",
   "pygments_lexer": "ipython3",
   "version": "3.13.2"
  }
 },
 "nbformat": 4,
 "nbformat_minor": 4
}
