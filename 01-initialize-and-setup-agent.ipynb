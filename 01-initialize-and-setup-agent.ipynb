{
 "cells": [
  {
   "cell_type": "markdown",
   "metadata": {},
   "source": [
    "\n",
    "# NVIDIA Meeting Recorder Agent: 01-Initialize and Setup Agent\n",
    "\n",
    "In this blueprint, we'll build a meeting recorder agent capable of finding appointments on your Google Calendar, recording the meetings, and sending the recordings via email.\n",
    "\n",
    "We’ll be using the xpander.ai Python SDK and NVIDIA NIM to bring this agent to life. The xpander SDK handles the overall workflow and orchestration, while NVIDIA NIM powers the agent's LLM.\n",
    "\n",
    "To get started, we'll need to set up a few prerequisites:\n",
    "- xpander API key\n",
    "\n",
    "- Google Calendar integration\n",
    "\n",
    "- NVIDIA NIM API key\n",
    "\n",
    "## Setting Up Your xpander API Key\n",
    "To get your xpander API key, go to https://app.xpander.ai/, and you'll land on this page:\n",
    "\n",
    "![img_1](images/img_1.png)\n",
    "\n",
    "In the sidebar, navigate to \"Settings\" > \"API Keys\". Copy your xpander API key and paste it into the `.env` file included in this repo.\n",
    "\n",
    "## Google Calendar Integration\n",
    "A key feature of our agent is the ability to check your Google Calendar for scheduled meetings. To make that happen, xpander needs permission to access your calendar.\n",
    "\n",
    "To set it up, click on \"Interfaces\" in the sidebar. You’ll see a list of available connectors for popular SaaS platform offered by xpander.ai.\n",
    "\n",
    "![img_2](images/img_2.png)\n",
    "\n",
    "Click on Google Calendar, then select \"Sign In with Google Calendar\". Then, follow the prompts to grant xpander access to your calendar.\n",
    "\n",
    "![img_3](images/img_3.png)\n",
    "\n",
    "## Setting Up NVIDIA NIM API Key\n",
    "\n",
    "You can get the NVIDIA NIM API key for free. Just head over to https://build.nvidia.com/models and select llama-3.1-405b-instruct.\n",
    "\n",
    "![img_4](images/img_4.png)\n",
    "\n",
    "Click on \"Get API Key\" in the top-right corner, then copy your NVIDIA NIM API key and paste it into the `.env` file in this repo.\n",
    "\n",
    "## Initializing the AI Agent with xpander\n",
    "\n",
    "Now that we’ve completed all the necessary setup steps, we can initialize our agent using xpander.\n",
    "\n",
    "First, let’s load the xpander API key from the `.env` file:"
   ]
  },
  {
   "cell_type": "code",
   "execution_count": 1,
   "metadata": {},
   "outputs": [
    {
     "name": "stdout",
     "output_type": "stream",
     "text": [
      "✅ XPANDER_API_KEY loaded successfully\n"
     ]
    }
   ],
   "source": [
    "\"\"\"AI Meeting Recorder Agent registration script for Xpander Cloud.\"\"\"\n",
    "import os\n",
    "import json\n",
    "from xpander_sdk import XpanderClient, GraphItem, AgentGraphItemType\n",
    "from dotenv import load_dotenv\n",
    "\n",
    "# Load environment variables\n",
    "load_dotenv()\n",
    "\n",
    "# Verify API key is available\n",
    "xpander_api_key = os.environ.get(\"XPANDER_API_KEY\")\n",
    "if not xpander_api_key:\n",
    "    print(\"❗️ Missing XPANDER_API_KEY in .env file\")\n",
    "else:\n",
    "    print(\"✅ XPANDER_API_KEY loaded successfully\")\n",
    "\n",
    "# Initialize Xpander client\n",
    "xpander_client = XpanderClient(api_key=xpander_api_key)"
   ]
  },
  {
   "cell_type": "markdown",
   "metadata": {},
   "source": [
    "Now, we’ll either initialize a new agent (if one hasn’t been created yet) or retrieve the agent ID if it was previously initialized."
   ]
  },
  {
   "cell_type": "code",
   "execution_count": 2,
   "metadata": {},
   "outputs": [
    {
     "name": "stderr",
     "output_type": "stream",
     "text": [
      "b'{\"stdout\":\"bG9hZGluZyBhZ2VudCA3NWFmYzg3Yy01ZjYyLTQwYWItOGM1ZS0yNjFmYjNmNGE2NTQK\"}\\n'\n",
      "b'{\"stdout\":\"bG9hZGluZyBhZ2VudCA3NWFmYzg3Yy01ZjYyLTQwYWItOGM1ZS0yNjFmYjNmNGE2NTQK\"}\\n'\n",
      "b'{\"stdout\":\"QWdlbnQgbG9hZGVkIGZyb20gY2FjaGUK\"}\\n'\n",
      "b'{\"stdout\":\"bG9hZGluZyBhZ2VudCA3NWFmYzg3Yy01ZjYyLTQwYWItOGM1ZS0yNjFmYjNmNGE2NTQK\"}\\n'\n"
     ]
    },
    {
     "name": "stdout",
     "output_type": "stream",
     "text": [
      "Created new agent: AI Meeting Recorder Agent (ID: 75afc87c-5f62-40ab-8c5e-261fb3f4a654)\n"
     ]
    }
   ],
   "source": [
    "# Get existing agent ID from environment or create a new agent\n",
    "agent_id = os.environ.get(\"XPANDER_AGENT_ID\")\n",
    "agent_name = \"AI Meeting Recorder Agent\"\n",
    "\n",
    "try:\n",
    "    if agent_id:\n",
    "        agent = xpander_client.agents.get(agent_id=agent_id)\n",
    "        print(f\"Using existing agent: {agent.name} (ID: {agent.id})\")\n",
    "    else:\n",
    "        agent = xpander_client.agents.create(name=agent_name)\n",
    "        agent_id = agent.id\n",
    "        \n",
    "        # Update .env with new agent ID ## Optional\n",
    "        with open(\".env\", \"r\") as f:\n",
    "            env_content = f.read()\n",
    "        with open(\".env\", \"w\") as f:\n",
    "            if \"XPANDER_AGENT_ID\" in env_content:\n",
    "                f.write(\"\\n\".join([line if not line.startswith(\"XPANDER_AGENT_ID=\") \n",
    "                                 else f\"XPANDER_AGENT_ID={agent.id}\" for line in env_content.splitlines()]))\n",
    "            else:\n",
    "                f.write(f\"{env_content}\\nXPANDER_AGENT_ID={agent.id}\")\n",
    "        print(f\"Created new agent: {agent.name} (ID: {agent.id})\")\n",
    "except Exception as e:\n",
    "    print(f\"❌ Error with agent: {e}\")"
   ]
  },
  {
   "cell_type": "markdown",
   "metadata": {},
   "source": [
    "And just like that, we’ve initialized our AI agent with xpander!\n",
    "\n",
    "If you check the contents of your `.env` file, you’ll see that your xpander agent ID has been saved there. We’ll need this ID anytime we want to access or make changes to this specific agent.\n",
    "\n",
    "You can also use the agent ID to view a visualization graph of your agent in xpander’s Workbench using the following link:"
   ]
  },
  {
   "cell_type": "code",
   "execution_count": 3,
   "metadata": {},
   "outputs": [
    {
     "name": "stdout",
     "output_type": "stream",
     "text": [
      "\n",
      "Agent initialization complete!\n",
      "Go to: https://app.xpander.ai/agents/75afc87c-5f62-40ab-8c5e-261fb3f4a654\n"
     ]
    }
   ],
   "source": [
    "# Print summary\n",
    "print(f\"\\nAgent initialization complete!\")\n",
    "print(f\"Go to: https://app.xpander.ai/agents/{agent.id}\")"
   ]
  },
  {
   "cell_type": "markdown",
   "metadata": {},
   "source": [
    "If you click the link above, you should see a visualization similar to this:\n",
    "\n",
    "![img_5](images/img_5.png)"
   ]
  },
  {
   "cell_type": "markdown",
   "metadata": {},
   "source": [
    "## Adding Tools to AI Agent\n",
    "\n",
    "In its current state, our agent is just a general chatbot with no special capabilities. Therefore, we’ll improve our agent's capabilities by adding operators (or tools) from a couple of connectors.\n",
    "\n",
    "As you've seen in the above section, xpander offers a wide range of connectors for popular SaaS platforms like Google WorkSuitespace, Slack, Zillow, Notion, and more. These connectors can be easily integrated into your agent, giving it access to those platforms and allowing you to build a powerful AI agent.\n",
    "\n",
    "Let’s explore the available connectors that are ready to be used by our agent.\n",
    "\n"
   ]
  },
  {
   "cell_type": "code",
   "execution_count": 4,
   "metadata": {},
   "outputs": [
    {
     "name": "stdout",
     "output_type": "stream",
     "text": [
      "Found 17 available interfaces:\n",
      "  - social media\n",
      "  - gmail\n",
      "  - confluence\n",
      "  - company monitor\n",
      "  - similarweb\n",
      "  - live sports data\n",
      "  - hackernews\n",
      "  - reddit\n",
      "  - movie database\n",
      "  - arxiv\n",
      "  - xpanderai tools\n",
      "  - zillow\n",
      "  - amazon retail data\n",
      "  - weather\n",
      "  - ruben's personal google calendar\n",
      "  - market insights\n",
      "  - firecrawl\n"
     ]
    }
   ],
   "source": [
    "agent = xpander_client.agents.get(agent_id=agent_id)\n",
    "\n",
    "# Retrieve available interfaces\n",
    "interfaces = {}\n",
    "for interface in agent.retrieve_agentic_interfaces():\n",
    "    name = getattr(interface, 'name', '').lower()\n",
    "    interfaces[name] = interface\n",
    "\n",
    "print(f\"Found {len(interfaces)} available interfaces:\")\n",
    "for name in interfaces.keys():\n",
    "    print(f\"  - {name}\")"
   ]
  },
  {
   "cell_type": "markdown",
   "metadata": {},
   "source": [
    "Each connector comes with its own set of operations or tools that we can freely use within our agent. These operations are designed for specific tasks, like retrieving an event ID, reading an event’s details, updating an event, and more.\n",
    "\n",
    "Our AI agent can call one or more of these operations as part of its workflow to complete a given task. For example, let’s take a look at the various operations available through the Google Calendar connector."
   ]
  },
  {
   "cell_type": "code",
   "execution_count": 5,
   "metadata": {},
   "outputs": [
    {
     "name": "stdout",
     "output_type": "stream",
     "text": [
      "Create New Secondary Calendar\n",
      "Get Calendar Metadata by ID\n",
      "Replace Calendar Metadata by ID\n",
      "Delete Secondary Calendar by ID\n",
      "Update Calendar Metadata by ID\n",
      "Get Calendar ACL Rules by ID\n",
      "Create Calendar ACL Rule by ID\n",
      "Watch Calendar ACL Changes\n",
      "Get ACL Rule by ID\n",
      "Replace ACL Rule by ID\n",
      "Delete ACL Rule by ID\n",
      "Update ACL Rule by ID\n",
      "Clear Primary Calendar by ID\n",
      "Get Calendar Events by ID\n",
      "Create Event in Calendar by ID\n",
      "Import Event to Calendar by ID\n",
      "Quick Add Event to Calendar by ID\n",
      "Watch Calendar Events by ID\n",
      "Get Event by ID\n",
      "Replace Event by ID\n",
      "Delete Event by ID\n",
      "Update Event by ID\n",
      "Get Recurring Event Instances\n",
      "Move Event to Another Calendar\n",
      "Stop Watching Resources\n",
      "Get Color Definitions\n",
      "Get Free Busy Info\n",
      "Get User Calendar List Entries\n",
      "Add Calendar List Entry\n",
      "Watch Calendar List Changes\n",
      "Get Calendar List Entry by ID\n",
      "Replace Calendar List Entry by ID\n",
      "Delete Calendar List Entry by ID\n",
      "Update Calendar List Entry by ID\n",
      "Get All User Settings\n",
      "Watch User Settings Changes\n",
      "Get User Setting by ID\n"
     ]
    }
   ],
   "source": [
    "\n",
    "for name, intf in interfaces.items():\n",
    "    if \"google calendar\" in name:\n",
    "        for operation in agent.retrieve_agentic_operations(agentic_interface=intf):\n",
    "            name = getattr(operation, 'name', '')\n",
    "            print(name)"
   ]
  },
  {
   "cell_type": "markdown",
   "metadata": {},
   "source": [
    "The Google Calendar connector alone offers a wide range of operations, such as updating calendar metadata, creating events, importing events, and more. You can easily incorporate any of these into your agent as needed.\n",
    "\n",
    "Aside from offering connectors to popular SaaS platforms, xpander also provides a collection of handy built-in actions. Let’s take a look at these built-in actions:"
   ]
  },
  {
   "cell_type": "code",
   "execution_count": 6,
   "metadata": {},
   "outputs": [
    {
     "name": "stdout",
     "output_type": "stream",
     "text": [
      "Fetch Company Details by Query\n",
      "Fetch Latest News\n",
      "Fetch Stock Data by Symbol\n",
      "Fetch Tavily AI Insights\n",
      "Fetch Sports Events by Week\n",
      "Check Recorder Status\n",
      "Upload Text to File in S3\n",
      "Upload File to S3 with Multipart Form\n",
      "Send Email with Content\n",
      "Convert Markdown to PDF\n",
      "Perform OCR on File URL\n",
      "Fetch Company Mentions on Social Media\n",
      "Shorten URL with Expiration\n",
      "Transcribe Audio Using URL\n",
      "Create Meeting Recording Bot\n"
     ]
    }
   ],
   "source": [
    "for name, intf in interfaces.items():\n",
    "    if \"xpanderai tools\" in name:\n",
    "        for operation in agent.retrieve_agentic_operations(agentic_interface=intf):\n",
    "            name = getattr(operation, 'name', '')\n",
    "            print(name)"
   ]
  },
  {
   "cell_type": "markdown",
   "metadata": {},
   "source": [
    "As you can see, xpander offers a wide range of built-in actions, such as recording a meeting, sending content via email, uloading file to S3, etc into your workflow.\n",
    "\n",
    "In this project, we’re going to add four different operations/actions to our AI agent:\n",
    "\n",
    "- `CalendarEventManagementGetCalendarEventsById` (Google Calendar): Retrieves the event ID for the relevant meeting on Google Calendar.\n",
    "\n",
    "- `XpanderMeetingManagementCreateRecordingBot` (xpander built-in action): Initializes and sets up the recording bot for the specified meeting ID.\n",
    "\n",
    "- `XpanderMeetingManagementCheckRecorderStatus` (xpander built-in action): Checks the current status of the recording bot—whether it has joined the meeting or completed the recording. If completed, it returns the link to the recorded session.\n",
    "\n",
    "- `XpanderMessagingServiceSendEmailWithContent` (xpander built-in action): Sends content to a specified email address based on the given prompt.\n",
    "\n",
    "All of these operations are already listed in the `agent_config.json` configuration file included in this repo. Let’s go ahead and load them into our agent.\n",
    "\n"
   ]
  },
  {
   "cell_type": "code",
   "execution_count": 7,
   "metadata": {},
   "outputs": [
    {
     "name": "stdout",
     "output_type": "stream",
     "text": [
      "Using config file: agent_config.json\n",
      "Agent name: AI Meeting Recorder Agent\n",
      "Number of tools: 4\n",
      "\n",
      "Tool 1:\n",
      "  Interface: xpanderai tools\n",
      "  Internal Name: XpanderMeetingManagementCreateRecordingBot\n",
      "\n",
      "Tool 2:\n",
      "  Interface: xpanderai tools\n",
      "  Internal Name: XpanderMeetingManagementCheckRecorderStatus\n",
      "\n",
      "Tool 3:\n",
      "  Interface: xpanderai tools\n",
      "  Internal Name: XpanderMessagingServiceSendEmailWithContent\n",
      "\n",
      "Tool 4:\n",
      "  Interface: google calendar\n",
      "  Internal Name: CalendarEventManagementGetCalendarEventsById\n"
     ]
    }
   ],
   "source": [
    "# Load configuration from file\n",
    "config_path = \"agent_config.json\"  # You can change this to a custom path\n",
    "\n",
    "try:\n",
    "    with open(config_path, \"r\") as f:\n",
    "        config = json.load(f)\n",
    "    \n",
    "    agent_name = config.get(\"agent_name\")\n",
    "    tools = config.get(\"tools\", [])\n",
    "    print(f\"Using config file: {config_path}\")\n",
    "    print(f\"Agent name: {agent_name}\")\n",
    "    print(f\"Number of tools: {len(tools)}\")\n",
    "    \n",
    "    # Display the tools configuration\n",
    "    for i, tool in enumerate(tools, 1):\n",
    "        print(f\"\\nTool {i}:\")\n",
    "        print(f\"  Interface: {tool.get('interface')}\")\n",
    "        print(f\"  Internal Name: {tool.get('internal_name')}\")\n",
    "except (FileNotFoundError, json.JSONDecodeError) as e:\n",
    "    print(f\"❌ Error loading config: {e}\")"
   ]
  },
  {
   "cell_type": "markdown",
   "metadata": {},
   "source": [
    "Now, let’s take a look at the operations currently accessible to our agent:\n"
   ]
  },
  {
   "cell_type": "code",
   "execution_count": 8,
   "metadata": {},
   "outputs": [
    {
     "name": "stdout",
     "output_type": "stream",
     "text": [
      "Found 1 existing tools:\n",
      "  - xpfinish-agent-execution-finished\n"
     ]
    }
   ],
   "source": [
    "# Get existing tools\n",
    "existing_tools = {}\n",
    "tools_list = agent.get_tools()\n",
    "for tool in tools_list:\n",
    "    if isinstance(tool, dict) and 'function' in tool and isinstance(tool['function'], dict):\n",
    "        fn = tool['function']\n",
    "        name = fn.get('name')\n",
    "        if name:\n",
    "            existing_tools[name] = True\n",
    "print(f\"Found {len(existing_tools)} existing tools:\")\n",
    "for name in existing_tools.keys():\n",
    "    print(f\"  - {name}\")"
   ]
  },
  {
   "cell_type": "markdown",
   "metadata": {},
   "source": [
    "As you can see, in its current state, our agent has access to only one tool: the `xpfinish-agent-execution-finished` operation from xpander. This operation is automatically initialized when the agent is created, and its main purpose is to signal that the agent has everything it needs to answer a query—meaning no further tool calls are necessary.\n",
    "\n",
    "Now, let’s add the four operations we discussed earlier to our agent:"
   ]
  },
  {
   "cell_type": "code",
   "execution_count": 9,
   "metadata": {},
   "outputs": [
    {
     "name": "stdout",
     "output_type": "stream",
     "text": [
      "Found suitable in your organization : xpanderai tools\n",
      "+ Found tool by internal name: XpanderMeetingManagementCreateRecordingBot\n",
      "+ Will add tool: Create Meeting Recording Bot\n",
      "Found suitable in your organization : xpanderai tools\n",
      "+ Found tool by internal name: XpanderMeetingManagementCheckRecorderStatus\n",
      "+ Will add tool: Check Recorder Status\n",
      "Found suitable in your organization : xpanderai tools\n",
      "+ Found tool by internal name: XpanderMessagingServiceSendEmailWithContent\n",
      "+ Will add tool: Send Email with Content\n",
      "Found suitable in your organization : ruben's personal google calendar\n",
      "+ Found tool by internal name: CalendarEventManagementGetCalendarEventsById\n",
      "+ Will add tool: Get Calendar Events by ID\n"
     ]
    }
   ],
   "source": [
    "# Process tools from config\n",
    "to_add = []\n",
    "missing = []\n",
    "\n",
    "for tool_config in tools:\n",
    "    interface_name = tool_config.get(\"interface\", \"\").lower()\n",
    "    internal_name = tool_config.get(\"internal_name\", \"\")\n",
    "    \n",
    "    if not internal_name:\n",
    "        print(f\"⚠️ Missing internal_name in tool config\")\n",
    "        continue\n",
    "        \n",
    "    if internal_name in existing_tools:\n",
    "        print(f\"✓ Tool already exists: {internal_name}\")\n",
    "        continue\n",
    "    \n",
    "    # Find interface (case insensitive partial match)\n",
    "    interface = None\n",
    "    for name, intf in interfaces.items():\n",
    "        if interface_name in name:\n",
    "            interface = intf\n",
    "            print(f\"Found suitable in your organization : {name}\")\n",
    "            break\n",
    "            \n",
    "    if not interface:\n",
    "        print(f\"⚠️ Interface not found: {interface_name}\")\n",
    "        missing.append(internal_name)\n",
    "        continue\n",
    "        \n",
    "    try:\n",
    "        ## Finds the operations for the interface in your specific organization\n",
    "        operations = agent.retrieve_agentic_operations(agentic_interface=interface)\n",
    "        \n",
    "        ## Trying to match between the operations and the requested operation name from the agent config\n",
    "        operation = None\n",
    "        operation = next((op for op in operations if hasattr(op, 'id_to_use_on_graph') and op.id_to_use_on_graph == internal_name), None)\n",
    "        if operation:\n",
    "            print(f\"+ Found tool by internal name: {internal_name}\")\n",
    "            print(f\"+ Will add tool: {operation.name}\")\n",
    "            to_add.append(operation)\n",
    "        else:\n",
    "            print(f\"❌ Operation not found with {internal_name}\")\n",
    "            missing.append(internal_name)\n",
    "    except Exception as e:\n",
    "        print(f\"Error retrieving operations: {e}\")\n",
    "        missing.append(internal_name)"
   ]
  },
  {
   "cell_type": "code",
   "execution_count": 10,
   "metadata": {},
   "outputs": [
    {
     "name": "stdout",
     "output_type": "stream",
     "text": [
      "adding 4 tools to the agent\n",
      "✅ Successfully added 4 tools\n"
     ]
    }
   ],
   "source": [
    "# Add tools if needed\n",
    "if to_add:\n",
    "    try:\n",
    "        print(f\"adding {len(to_add)} tools to the agent\")\n",
    "        agent.attach_operations(operations=to_add)\n",
    "        for op in to_add:\n",
    "            agent.graph.add_node(GraphItem(\n",
    "                agent=agent, item_id=op.id_to_use_on_graph, \n",
    "                name=op.name, type=AgentGraphItemType.TOOL, is_local_tool=False\n",
    "            ))\n",
    "        agent.sync()\n",
    "        print(f\"✅ Successfully added {len(to_add)} tools\")\n",
    "    except Exception as e:\n",
    "        print(f\"❌ Error adding tools: {e}\")\n",
    "else:\n",
    "    print(\"No tools to add or skipping for demonstration\")"
   ]
  },
  {
   "cell_type": "markdown",
   "metadata": {},
   "source": [
    "Now let's see the graph visualization of our agent after adding these 4 operations and tools into our agent:"
   ]
  },
  {
   "cell_type": "code",
   "execution_count": 11,
   "metadata": {},
   "outputs": [
    {
     "name": "stdout",
     "output_type": "stream",
     "text": [
      "\n",
      "Agent setup complete!\n",
      "Go to: https://app.xpander.ai/agents/75afc87c-5f62-40ab-8c5e-261fb3f4a654\n"
     ]
    }
   ],
   "source": [
    "# Print summary\n",
    "print(f\"\\nAgent setup complete!\")\n",
    "print(f\"Go to: https://app.xpander.ai/agents/{agent.id}\")"
   ]
  },
  {
   "cell_type": "markdown",
   "metadata": {},
   "source": [
    "If you visit the URL provided above, you should see a graph visualization similar to the one below:\n",
    "\n",
    "![img_6](images/img_6.png)\n",
    "\n",
    "As you can see, our agent now has access to four different operations from Google Calendar and xpander’s built-in actions. In the next notebook, we’ll run the agent to fetch our meeting schedule from Google Calendar, record the meeting, and send the recording to a specified email address."
   ]
  },
  {
   "cell_type": "markdown",
   "metadata": {},
   "source": []
  }
 ],
 "metadata": {
  "kernelspec": {
   "display_name": "development",
   "language": "python",
   "name": "python3"
  },
  "language_info": {
   "codemirror_mode": {
    "name": "ipython",
    "version": 3
   },
   "file_extension": ".py",
   "mimetype": "text/x-python",
   "name": "python",
   "nbconvert_exporter": "python",
   "pygments_lexer": "ipython3",
   "version": "3.9.19"
  }
 },
 "nbformat": 4,
 "nbformat_minor": 2
}
