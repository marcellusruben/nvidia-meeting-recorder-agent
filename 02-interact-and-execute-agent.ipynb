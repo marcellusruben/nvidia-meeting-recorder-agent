{
 "cells": [
  {
   "cell_type": "markdown",
   "metadata": {},
   "source": [
    "# NVIDIA Meeting Recorder Agent: 02-Interact and Execute Agent\n",
    "\n",
    "\n",
    "In this notebook, we’ll execute and interact with the agent we created in the previous notebook. So before running this, make sure to execute `01-initialize-and-setup.ipynb`.\n",
    "\n",
    "We’ll be using the agent to perform several tasks, including:\n",
    "\n",
    "- Checking our meeting schedule on Google Calendar and retrieving relevant meeting information\n",
    "\n",
    "- Creating a meeting recorder to capture the session and checking its real-time status\n",
    "\n",
    "- Sending the recording, transcription, and summary of the meeting to a specified email address\n",
    "\n",
    "Along the way, we’ll explore how to persist the agent’s memory using xpander’s SDK, and see how the agent interprets our prompts to carry out the tasks.\n",
    "\n",
    "First, let’s retrieve all the necessary credentials, such as the xpander API key, NVIDIA NIM API key, and the agent ID we created in the previous notebook.\n",
    "\n"
   ]
  },
  {
   "cell_type": "code",
   "execution_count": 1,
   "metadata": {},
   "outputs": [
    {
     "name": "stdout",
     "output_type": "stream",
     "text": [
      "8b4f94c3-58f5-4561-a6a8-753097177c5c\n",
      "✅ All required API keys loaded successfully\n",
      "Open the agent alogside this notebook at https://app.xpander.ai/agents/8b4f94c3-58f5-4561-a6a8-753097177c5c\n"
     ]
    }
   ],
   "source": [
    "import os\n",
    "import datetime\n",
    "import time\n",
    "import re\n",
    "import ast\n",
    "import random\n",
    "from dotenv import load_dotenv\n",
    "from xpander_sdk import XpanderClient, LLMProvider, ToolCall, ToolCallType, Tokens, LLMTokens, Agent\n",
    "from openai import OpenAI\n",
    "\n",
    "# Load environment variables\n",
    "load_dotenv()\n",
    "\n",
    "# Verify required API keys are available\n",
    "xpander_api_key = os.environ.get(\"XPANDER_API_KEY\")\n",
    "agent_id = os.environ.get(\"XPANDER_AGENT_ID\")\n",
    "nvidia_nim_api_key = os.environ.get(\"NVIDIA_NIM_API_KEY\")\n",
    "openai_api_key = os.environ.get(\"OPENAI_API_KEY\")\n",
    "\n",
    "print(agent_id)\n",
    "if not all([xpander_api_key, nvidia_nim_api_key, agent_id]):\n",
    "    missing = []\n",
    "    if not xpander_api_key: missing.append(\"XPANDER_API_KEY\")\n",
    "    if not nvidia_nim_api_key: missing.append(\"NVIDIA_NIM_API_KEY\")\n",
    "    if not agent_id: missing.append(\"XPANDER_AGENT_ID\")\n",
    "    print(f\"❗️ Missing required environment variables: {', '.join(missing)}\")\n",
    "else:\n",
    "    print(f\"✅ All required API keys loaded successfully\")\n",
    "    \n",
    "print(f\"Open the agent alogside this notebook at https://app.xpander.ai/agents/{agent_id}\")"
   ]
  },
  {
   "cell_type": "markdown",
   "metadata": {},
   "source": [
    "## Define the Meeting Agent Class\n",
    "\n",
    "Now, let’s create our `MeetingAgent` class. This class will handle both the initialization of the agent and the logic for processing input prompts and generating responses.\n",
    "\n",
    "For each prompt the agent receives, it processes the input and generates a response through a looped operation. Each iteration of the loop consists of the following steps:\n",
    "\n",
    "- The LLM generates a response based on the current state.\n",
    "\n",
    "- It evaluates whether it can complete the task directly or if it needs to call a tool (e.g., Google Calendar, xpander built-in actions, etc.).\n",
    "\n",
    "- If a tool is needed, the agent selects the appropriate tool and provides the required input arguments.\n",
    "\n",
    "- xpander executes the tool call and returns the result to the agent for the next iteration.\n",
    "\n",
    "- Once the LLM determines that it has all the necessary information to answer the user’s query, it calls the `xpfinish-agent-execution-finished` function, essentially ending the loop."
   ]
  },
  {
   "cell_type": "code",
   "execution_count": 2,
   "metadata": {},
   "outputs": [],
   "source": [
    "def get_function_and_payload(model_response):\n",
    "    \"\"\"Function to parse tool name and its payload\"\"\"\n",
    "\n",
    "    match = re.search(r\"\\[([A-Za-z0-9_\\-]+)({.*})\\]\", model_response[\"choices\"][0][\"message\"][\"content\"])\n",
    "\n",
    "    if match:\n",
    "        tool_name = match.group(1)  \n",
    "        payload_str = match.group(2) \n",
    "        payload = ast.literal_eval(payload_str)  \n",
    "    else:\n",
    "        tool_name = None\n",
    "        payload = None\n",
    "    \n",
    "    \n",
    "    return tool_name, payload"
   ]
  },
  {
   "cell_type": "code",
   "execution_count": 3,
   "metadata": {},
   "outputs": [],
   "source": [
    "class MeetingAgent:\n",
    "    \"\"\"Class for running the meeting recorder agent\"\"\"\n",
    "    \n",
    "    def __init__(self, nvidia_nim_api_key, xpander_api_key, agent_id):\n",
    "        self.agent_id = agent_id\n",
    "        self.xpander_client = XpanderClient(api_key=xpander_api_key)\n",
    "        self.openai_client =  OpenAI(\n",
    "            base_url = \"https://integrate.api.nvidia.com/v1\",\n",
    "            api_key = nvidia_nim_api_key\n",
    "            )\n",
    " \n",
    "        self.agent : Agent = self.xpander_client.agents.get(agent_id=self.agent_id)\n",
    "\n",
    "\n",
    "    def run(self, prompt=None, thread_id=None):\n",
    "        \"\"\"Run the agent with the given prompt\"\"\"\n",
    "\n",
    "        is_finished = False\n",
    "        task = prompt or f\"Please check the status of all recorded meetings.\"\n",
    "\n",
    "        print(\"-\" * 60)\n",
    "        print(f\"{'Continuing conversation in thread: ' + thread_id if thread_id else 'Starting a new conversation thread'}\")\n",
    "        print(f\"Processing Task: \\n\\n{task}\\n\\n\")\n",
    "        print(\"-\" * 60)\n",
    "           \n",
    "        # Create task with or without thread_id\n",
    "        self.agent.add_task(input=task, thread_id=thread_id if thread_id else None)\n",
    "        self.agent.add_messages([{\"role\": \"assistant\", \"content\": \"the time now is : \" + datetime.datetime.now().strftime('%Y-%m-%d %H:%M:%S')}])\n",
    "\n",
    "        # Initialize token tracking and timing\n",
    "        execution_tokens = Tokens(worker=LLMTokens(completion_tokens=0, prompt_tokens=0, total_tokens=0))\n",
    "        execution_start_time = time.perf_counter()\n",
    "          \n",
    "        # Run the agent until it's finished\n",
    "        while not is_finished:\n",
    "\n",
    "            # Track start time for this inference\n",
    "            start_time = time.perf_counter()\n",
    "\n",
    "            # Get response from OpenAI and process\n",
    "            response = self.openai_client.chat.completions.create(\n",
    "                model=\"nvidia/llama-3.1-nemotron-ultra-253b-v1\",\n",
    "                messages= self.agent.messages,\n",
    "                temperature=0.0\n",
    "\n",
    "            )\n",
    "\n",
    "            # Track token usage\n",
    "            execution_tokens.worker.completion_tokens += response.usage.completion_tokens\n",
    "            execution_tokens.worker.prompt_tokens += response.usage.prompt_tokens\n",
    "            execution_tokens.worker.total_tokens += response.usage.total_tokens\n",
    "\n",
    "                \n",
    "            # Report LLM usage to Xpander\n",
    "            self.agent.report_llm_usage(\n",
    "                llm_response=response.model_dump(),\n",
    "                llm_inference_duration=time.perf_counter() - start_time,\n",
    "                llm_provider=LLMProvider.NVIDIA_NIM\n",
    "            )\n",
    "\n",
    "            self.agent.add_messages(response.model_dump())\n",
    "\n",
    "            # Extract and execute any tool calls\n",
    "            tool_name, payload = get_function_and_payload(response.model_dump())\n",
    "\n",
    "            tool_calls = [ToolCall(\n",
    "                            name=tool_name,\n",
    "                            type=ToolCallType.XPANDER,\n",
    "                            payload=payload,\n",
    "                            tool_call_id=f\"call_{random.randint(100000, 999999)}\"\n",
    "                        )]\n",
    "            \n",
    "            for tool_call in tool_calls:\n",
    "                print(\"AI decided to call : \", tool_call.name)\n",
    "                print(\"With the following payload : \", tool_call.payload)\n",
    "\n",
    "            \n",
    "            if tool_calls:\n",
    "                print(\"Executing tool calls\")\n",
    "                responses = self.agent.run_tools(tool_calls=tool_calls)\n",
    "                for response in responses:\n",
    "                    print(\"Tool call function name : \", response.function_name)\n",
    "                    print(\"HTTP Status code : \", response.status_code) \n",
    "                    if str(response.function_name) == \"xpfinish-agent-execution-finished\":\n",
    "                        is_finished = True\n",
    "        \n",
    "            if is_finished:\n",
    "                break\n",
    "\n",
    "        # Process results\n",
    "        execution_end_time = time.perf_counter()\n",
    "        result = self.agent.retrieve_execution_result()\n",
    "        thread_id = result.memory_thread_id\n",
    "        print(f\"Your thread ID is: {thread_id}\")\n",
    "        result_text = result.result\n",
    "    \n",
    "        # Report execution metrics to Xpander\n",
    "        self.agent.report_execution_metrics(\n",
    "            llm_tokens=execution_tokens,\n",
    "            ai_model=\"meta/llama-3.1-405b-instruct\",\n",
    "        )\n",
    "        print(f\"Status: {result.status}\")\n",
    "        print(f\"Result: {result_text}\")\n",
    "        print(f\"Execution duration: {execution_end_time - execution_start_time:.2f} seconds\")\n",
    "    \n",
    "        # Return both the result text and thread ID\n",
    "        return result_text, thread_id"
   ]
  },
  {
   "cell_type": "markdown",
   "metadata": {},
   "source": [
    "## Initialize the Meeting Agent\n",
    "\n",
    "Now that we’ve defined the logic for how the agent should process user prompts, let’s go ahead and initialize our meeting agent using the `MeetingAgent` class we just created.\n",
    "\n",
    "We also need to provide the agent with clear instructions, roles, and specific goals. This ensures that:\n",
    "\n",
    "- It understands its task and objective\n",
    "\n",
    "- It follows the correct workflow when handling user requests\n",
    "\n",
    "- It knows which tools to use in various situations to effectively complete a task"
   ]
  },
  {
   "cell_type": "code",
   "execution_count": 4,
   "metadata": {},
   "outputs": [
    {
     "name": "stderr",
     "output_type": "stream",
     "text": [
      "b'{\"stdout\":\"bG9hZGluZyBhZ2VudCA4YjRmOTRjMy01OGY1LTQ1NjEtYTZhOC03NTMwOTcxNzdjNWMK\"}\\n'\n",
      "b'{\"stdout\":\"cnVubmluZyB0b29sIHhwZmluaXNoLWFnZW50LWV4ZWN1dGlvbi1maW5pc2hlZCBvbiBhZ2VudCA4YjRmOTRjMy01OGY1LTQ1NjEtYTZhOC03NTMwOTcxNzdjNWMgd2l0aCBleGVjdXRpb24gYWNlMGMxNmItNTY5MS00MTU1LTlmMmMtY2U0ODFhZmFhNGIwCg==\"}\\n'\n",
      "b'{\"stdout\":\"cnVubmluZyB0b29sIENhbGVuZGFyRXZlbnRNYW5hZ2VtZW50R2V0Q2FsZW5kYXJFdmVudHNCeUlkIG9uIGFnZW50IDhiNGY5NGMzLTU4ZjUtNDU2MS1hNmE4LTc1MzA5NzE3N2M1YyB3aXRoIGV4ZWN1dGlvbiAyYmFhOTQyMi00YWEzLTQ2ZTUtOWU5MS04MTNhYjQwMGQ0MTAK\"}\\n'\n",
      "b'{\"stdout\":\"cnVubmluZyB0b29sIHhwZmluaXNoLWFnZW50LWV4ZWN1dGlvbi1maW5pc2hlZCBvbiBhZ2VudCA4YjRmOTRjMy01OGY1LTQ1NjEtYTZhOC03NTMwOTcxNzdjNWMgd2l0aCBleGVjdXRpb24gMmJhYTk0MjItNGFhMy00NmU1LTllOTEtODEzYWI0MDBkNDEwCg==\"}\\n'\n",
      "b'{\"stdout\":\"cnVubmluZyB0b29sIFhwYW5kZXJNZWV0aW5nTWFuYWdlbWVudENyZWF0ZVJlY29yZGluZ0JvdCBvbiBhZ2VudCA4YjRmOTRjMy01OGY1LTQ1NjEtYTZhOC03NTMwOTcxNzdjNWMgd2l0aCBleGVjdXRpb24gOTU0Mzk1YWItOWE3Yi00NWIwLWIwYjEtNGQ2YTdjYzQyZTM2Cg==\"}\\n'\n",
      "b'{\"stdout\":\"cnVubmluZyB0b29sIFhwYW5kZXJNZWV0aW5nTWFuYWdlbWVudENoZWNrUmVjb3JkZXJTdGF0dXMgb24gYWdlbnQgOGI0Zjk0YzMtNThmNS00NTYxLWE2YTgtNzUzMDk3MTc3YzVjIHdpdGggZXhlY3V0aW9uIDk1NDM5NWFiLTlhN2ItNDViMC1iMGIxLTRkNmE3Y2M0MmUzNgo=\"}\\n'\n",
      "b'{\"stdout\":\"cnVubmluZyB0b29sIHhwZmluaXNoLWFnZW50LWV4ZWN1dGlvbi1maW5pc2hlZCBvbiBhZ2VudCA4YjRmOTRjMy01OGY1LTQ1NjEtYTZhOC03NTMwOTcxNzdjNWMgd2l0aCBleGVjdXRpb24gOTU0Mzk1YWItOWE3Yi00NWIwLWIwYjEtNGQ2YTdjYzQyZTM2Cg==\"}\\n'\n",
      "b'{\"stdout\":\"cnVubmluZyB0b29sIFhwYW5kZXJNZWV0aW5nTWFuYWdlbWVudENoZWNrUmVjb3JkZXJTdGF0dXMgb24gYWdlbnQgOGI0Zjk0YzMtNThmNS00NTYxLWE2YTgtNzUzMDk3MTc3YzVjIHdpdGggZXhlY3V0aW9uIDRhZGNmYTMzLTA1NWEtNGVhOS05MjhmLTljYmUxZGMyYTIxYgo=\"}\\n'\n",
      "b'{\"stdout\":\"cnVubmluZyB0b29sIFhwYW5kZXJNZXNzYWdpbmdTZXJ2aWNlU2VuZEVtYWlsV2l0aENvbnRlbnQgb24gYWdlbnQgOGI0Zjk0YzMtNThmNS00NTYxLWE2YTgtNzUzMDk3MTc3YzVjIHdpdGggZXhlY3V0aW9uIDRhZGNmYTMzLTA1NWEtNGVhOS05MjhmLTljYmUxZGMyYTIxYgo=\"}\\n'\n",
      "b'{\"stdout\":\"cnVubmluZyB0b29sIHhwZmluaXNoLWFnZW50LWV4ZWN1dGlvbi1maW5pc2hlZCBvbiBhZ2VudCA4YjRmOTRjMy01OGY1LTQ1NjEtYTZhOC03NTMwOTcxNzdjNWMgd2l0aCBleGVjdXRpb24gNGFkY2ZhMzMtMDU1YS00ZWE5LTkyOGYtOWNiZTFkYzJhMjFiCg==\"}\\n'\n",
      "b'{\"stdout\":\"cnVubmluZyB0b29sIFhwYW5kZXJNZWV0aW5nTWFuYWdlbWVudENoZWNrUmVjb3JkZXJTdGF0dXMgb24gYWdlbnQgOGI0Zjk0YzMtNThmNS00NTYxLWE2YTgtNzUzMDk3MTc3YzVjIHdpdGggZXhlY3V0aW9uIGRmODFhMjYzLTIxYzQtNDEzMy04NTNhLWMxZGRiYzQ0MWUzOAo=\"}\\n'\n",
      "b'{\"stdout\":\"cnVubmluZyB0b29sIHhwZmluaXNoLWFnZW50LWV4ZWN1dGlvbi1maW5pc2hlZCBvbiBhZ2VudCA4YjRmOTRjMy01OGY1LTQ1NjEtYTZhOC03NTMwOTcxNzdjNWMgd2l0aCBleGVjdXRpb24gZGY4MWEyNjMtMjFjNC00MTMzLTg1M2EtYzFkZGJjNDQxZTM4Cg==\"}\\n'\n",
      "b'{\"stdout\":\"cnVubmluZyB0b29sIFhwYW5kZXJNZXNzYWdpbmdTZXJ2aWNlU2VuZEVtYWlsV2l0aENvbnRlbnQgb24gYWdlbnQgOGI0Zjk0YzMtNThmNS00NTYxLWE2YTgtNzUzMDk3MTc3YzVjIHdpdGggZXhlY3V0aW9uIDQ0M2YxNDI5LWVhMWItNGQ1Zi1iNmJkLWUwNTljNjFjZjFmZAo=\"}\\n'\n",
      "b'{\"stdout\":\"cnVubmluZyB0b29sIHhwZmluaXNoLWFnZW50LWV4ZWN1dGlvbi1maW5pc2hlZCBvbiBhZ2VudCA4YjRmOTRjMy01OGY1LTQ1NjEtYTZhOC03NTMwOTcxNzdjNWMgd2l0aCBleGVjdXRpb24gNDQzZjE0MjktZWExYi00ZDVmLWI2YmQtZTA1OWM2MWNmMWZkCg==\"}\\n'\n",
      "b'{\"stdout\":\"cnVubmluZyB0b29sIFhwYW5kZXJNZXNzYWdpbmdTZXJ2aWNlU2VuZEVtYWlsV2l0aENvbnRlbnQgb24gYWdlbnQgOGI0Zjk0YzMtNThmNS00NTYxLWE2YTgtNzUzMDk3MTc3YzVjIHdpdGggZXhlY3V0aW9uIDZiODk1ZTgzLTIxZjUtNDk5Ny1hNjY1LTAwNWViOTY5ZmM1Mwo=\"}\\n'\n",
      "b'{\"stdout\":\"cnVubmluZyB0b29sIHhwZmluaXNoLWFnZW50LWV4ZWN1dGlvbi1maW5pc2hlZCBvbiBhZ2VudCA4YjRmOTRjMy01OGY1LTQ1NjEtYTZhOC03NTMwOTcxNzdjNWMgd2l0aCBleGVjdXRpb24gNmI4OTVlODMtMjFmNS00OTk3LWE2NjUtMDA1ZWI5NjlmYzUzCg==\"}\\n'\n",
      "b'{\"stdout\":\"cnVubmluZyB0b29sIFhwYW5kZXJNZXNzYWdpbmdTZXJ2aWNlU2VuZEVtYWlsV2l0aENvbnRlbnQgb24gYWdlbnQgOGI0Zjk0YzMtNThmNS00NTYxLWE2YTgtNzUzMDk3MTc3YzVjIHdpdGggZXhlY3V0aW9uIDlkZjc1ZGJlLTYyZDQtNDdjMi05ZmYyLTMwNWE5MDQ1NzVjMQo=\"}\\n'\n",
      "b'{\"stdout\":\"cnVubmluZyB0b29sIHhwZmluaXNoLWFnZW50LWV4ZWN1dGlvbi1maW5pc2hlZCBvbiBhZ2VudCA4YjRmOTRjMy01OGY1LTQ1NjEtYTZhOC03NTMwOTcxNzdjNWMgd2l0aCBleGVjdXRpb24gOWRmNzVkYmUtNjJkNC00N2MyLTlmZjItMzA1YTkwNDU3NWMxCg==\"}\\n'\n",
      "b'{\"stdout\":\"cnVubmluZyB0b29sIFhwYW5kZXJNZXNzYWdpbmdTZXJ2aWNlU2VuZEVtYWlsV2l0aENvbnRlbnQgb24gYWdlbnQgOGI0Zjk0YzMtNThmNS00NTYxLWE2YTgtNzUzMDk3MTc3YzVjIHdpdGggZXhlY3V0aW9uIGI5N2QyZTRkLThiNTctNGY0MC1iMzg3LTJiMzIwNGNiNzVkMgo=\"}\\n'\n",
      "b'{\"stdout\":\"cnVubmluZyB0b29sIHhwZmluaXNoLWFnZW50LWV4ZWN1dGlvbi1maW5pc2hlZCBvbiBhZ2VudCA4YjRmOTRjMy01OGY1LTQ1NjEtYTZhOC03NTMwOTcxNzdjNWMgd2l0aCBleGVjdXRpb24gYjk3ZDJlNGQtOGI1Ny00ZjQwLWIzODctMmIzMjA0Y2I3NWQyCg==\"}\\n'\n"
     ]
    }
   ],
   "source": [
    "# Initialize the meeting agent\n",
    "meeting_agent = MeetingAgent(\n",
    "    nvidia_nim_api_key=nvidia_nim_api_key,\n",
    "    xpander_api_key=xpander_api_key,\n",
    "    agent_id=agent_id\n",
    ")\n",
    "\n",
    "meeting_agent.agent.instructions.general = f\"\"\"\n",
    "Reasoning mode: ON\n",
    "You are an expert in composing functions. You are given a question and a set of possible functions.\n",
    "Based on the question, you will need to make one or more function/tool calls to achieve the purpose.\n",
    "Based on any given question from the user, you shouldn't call the same function/tool more than once.\n",
    "If none of the function can be used, point it out. If the given question lacks the parameters required by the function,\n",
    "also point it out. You should only return the function call in tools call sections.\n",
    "\n",
    "If you decide to invoke any of the function(s), you MUST put it in the format of <TOOLCALL>[func_name1{{'params_name1': 'params_value1', 'params_name2': 'params_value2'...}}]</TOOLCALL>\n",
    "\n",
    "You SHOULD NOT include any other text in the response.\n",
    "Here is a list of functions in JSON format that you can invoke.\n",
    "\n",
    "<AVAILABLE_TOOLS>{meeting_agent.agent.get_tools(llm_provider=LLMProvider.NVIDIA_NIM)}</AVAILABLE_TOOLS>\n",
    "\"\"\"\n",
    "\n",
    "meeting_agent.agent.instructions.role = \"\"\"\n",
    "You are a helpful meeting recorder AI agent with access to Google Calendar and Meeting Recording tools.\n",
    "\"\"\"\n",
    "\n",
    "meeting_agent.agent.instructions.goal = \"\"\"\n",
    "Your goal is to help users answer their query, record their meetings, check the status of the recording tools, and get the assets of the recorded meeting using the recording bot id.\n",
    "\"\"\""
   ]
  },
  {
   "cell_type": "markdown",
   "metadata": {},
   "source": [
    "## Example Use Case 1: Test Agent's Capabilities\n",
    "\n",
    "Once we have setup everything, let's test the agent capabilities by using the following prompt:"
   ]
  },
  {
   "cell_type": "code",
   "execution_count": 5,
   "metadata": {},
   "outputs": [
    {
     "name": "stdout",
     "output_type": "stream",
     "text": [
      "------------------------------------------------------------\n",
      "Starting a new conversation thread\n",
      "Processing Task: \n",
      "\n",
      "\n",
      "Hi! What can you do?\n",
      "\n",
      "\n",
      "\n",
      "------------------------------------------------------------\n",
      "AI decided to call :  xpfinish-agent-execution-finished\n",
      "With the following payload :  {'bodyParams': {'result': 'I can help you record meetings, check the status of recording tools, and retrieve meeting assets using the recording bot ID. Please let me know how I can assist you today!', 'is_success': True}}\n",
      "Executing tool calls\n",
      "Tool call function name :  xpfinish-agent-execution-finished\n",
      "HTTP Status code :  200\n",
      "Your thread ID is: b1047931-665b-4101-80ed-8a24187dbbd2\n",
      "Status: ExecutionStatus.COMPLETED\n",
      "Result: I can help you record meetings, check the status of recording tools, and retrieve meeting assets using the recording bot ID. Please let me know how I can assist you today!\n",
      "Execution duration: 7.06 seconds\n"
     ]
    }
   ],
   "source": [
    "prompt = \"\"\"\n",
    "Hi! What can you do?\n",
    "\"\"\"\n",
    "\n",
    "result, thread_id = meeting_agent.run(prompt=prompt)"
   ]
  },
  {
   "cell_type": "markdown",
   "metadata": {},
   "source": [
    "After completing the task, xpander generates a thread ID for the agent's run. This thread ID is crucial for maintaining conversation history. It allows the agent to understand context and handle follow-up questions related to a previous query. We can simply include the same thread ID in subsequent prompts."
   ]
  },
  {
   "cell_type": "markdown",
   "metadata": {},
   "source": [
    "## Example Use Case 2: Retrieve Upcoming Calendar Events\n",
    "\n",
    "Since our agent now has access to Google Calendar, we can ask it to retrieve upcoming meetings from our schedule. To execute the agent with memory persistence, use the thread ID retrieved from the previous interaction and pass it as an argument along with your prompt."
   ]
  },
  {
   "cell_type": "code",
   "execution_count": 6,
   "metadata": {},
   "outputs": [
    {
     "name": "stdout",
     "output_type": "stream",
     "text": [
      "------------------------------------------------------------\n",
      "Continuing conversation in thread: b1047931-665b-4101-80ed-8a24187dbbd2\n",
      "Processing Task: \n",
      "\n",
      "\n",
      "Please list my upcoming meetings for the next 3 days. \n",
      "For each meeting, include the title, date, time, and participants if available.\n",
      "\n",
      "\n",
      "\n",
      "------------------------------------------------------------\n",
      "AI decided to call :  CalendarEventManagementGetCalendarEventsById\n",
      "With the following payload :  {'pathParams': {'calendarId': 'primary'}, 'queryParams': {'timeMin': '2025-04-23T00:00:00Z', 'timeMax': '2025-04-26T00:00:00Z', 'maxResults': 10, 'singleEvents': True, 'orderBy': 'startTime'}}\n",
      "Executing tool calls\n",
      "Tool call function name :  CalendarEventManagementGetCalendarEventsById\n",
      "HTTP Status code :  200\n",
      "AI decided to call :  xpfinish-agent-execution-finished\n",
      "With the following payload :  {'bodyParams': {'result': 'Here are your upcoming meetings for the next 3 days:\\n\\n1. **Onboarding Employee**\\n   - Date: 2025-04-23\\n   - Time: 08:00:00 - 08:01:00\\n   - Participants: christofbenbach@yahoo.com, marcellusruben@gmail.com\\n\\nPlease let me know if you need further assistance.', 'is_success': True}}\n",
      "Executing tool calls\n",
      "Tool call function name :  xpfinish-agent-execution-finished\n",
      "HTTP Status code :  200\n",
      "Your thread ID is: b1047931-665b-4101-80ed-8a24187dbbd2\n",
      "Status: ExecutionStatus.COMPLETED\n",
      "Result: Here are your upcoming meetings for the next 3 days:\n",
      "\n",
      "1. **Onboarding Employee**\n",
      "   - Date: 2025-04-23\n",
      "   - Time: 08:00:00 - 08:01:00\n",
      "   - Participants: christofbenbach@yahoo.com, marcellusruben@gmail.com\n",
      "\n",
      "Please let me know if you need further assistance.\n",
      "Execution duration: 20.56 seconds\n"
     ]
    },
    {
     "data": {
      "text/plain": [
       "('Here are your upcoming meetings for the next 3 days:\\n\\n1. **Onboarding Employee**\\n   - Date: 2025-04-23\\n   - Time: 08:00:00 - 08:01:00\\n   - Participants: christofbenbach@yahoo.com, marcellusruben@gmail.com\\n\\nPlease let me know if you need further assistance.',\n",
       " 'b1047931-665b-4101-80ed-8a24187dbbd2')"
      ]
     },
     "execution_count": 6,
     "metadata": {},
     "output_type": "execute_result"
    }
   ],
   "source": [
    "# Use the same thread_id to maintain context from the authorization\n",
    "prompt = \"\"\"\n",
    "Please list my upcoming meetings for the next 3 days. \n",
    "For each meeting, include the title, date, time, and participants if available.\n",
    "\"\"\"\n",
    "\n",
    "meeting_agent.run(prompt=prompt,  thread_id=thread_id)"
   ]
  },
  {
   "cell_type": "markdown",
   "metadata": {},
   "source": [
    "As you can see, the agent called `CalendarEventManagementGetCalendarEventsById` to retrieve the ID of the relevant event from our Google Calendar. Once it had all the necessary information, it called `xpfinish-agent-execution-finished` to signal that it was ready to generate a response for the user."
   ]
  },
  {
   "cell_type": "markdown",
   "metadata": {},
   "source": [
    "## Example Use Case 3: Set Up Meeting Recorder\n",
    "\n",
    "We can also ask our agent to set up a recording bot for a particular meeting with prompt similar to this:"
   ]
  },
  {
   "cell_type": "code",
   "execution_count": 7,
   "metadata": {},
   "outputs": [
    {
     "name": "stdout",
     "output_type": "stream",
     "text": [
      "------------------------------------------------------------\n",
      "Continuing conversation in thread: b1047931-665b-4101-80ed-8a24187dbbd2\n",
      "Processing Task: \n",
      "\n",
      "\n",
      "Can you record the onboarding meeting scheduled today? \n",
      "\n",
      "\n",
      "\n",
      "------------------------------------------------------------\n",
      "AI decided to call :  XpanderMeetingManagementCreateRecordingBot\n",
      "With the following payload :  {'bodyParams': {'meeting_url': 'https://meet.google.com/ufr-mcmn-kkt', 'bot_name': 'OnboardingRecorder', 'scheduled_time': '2025-04-23T08:00:00+02:00'}}\n",
      "Executing tool calls\n",
      "Tool call function name :  XpanderMeetingManagementCreateRecordingBot\n",
      "HTTP Status code :  200\n",
      "AI decided to call :  XpanderMeetingManagementCheckRecorderStatus\n",
      "With the following payload :  {'pathParams': {'recorder_id': '0a930729-5661-455e-866f-315297f69832'}}\n",
      "Executing tool calls\n",
      "Tool call function name :  XpanderMeetingManagementCheckRecorderStatus\n",
      "HTTP Status code :  200\n",
      "AI decided to call :  xpfinish-agent-execution-finished\n",
      "With the following payload :  {'bodyParams': {'result': 'The recording bot has been initiated for the onboarding meeting. The current status is \"joining_call\". I will check again in a moment to confirm the recording has started.', 'is_success': True}}\n",
      "Executing tool calls\n",
      "Tool call function name :  xpfinish-agent-execution-finished\n",
      "HTTP Status code :  200\n",
      "Your thread ID is: b1047931-665b-4101-80ed-8a24187dbbd2\n",
      "Status: ExecutionStatus.COMPLETED\n",
      "Result: The recording bot has been initiated for the onboarding meeting. The current status is \"joining_call\". I will check again in a moment to confirm the recording has started.\n",
      "Execution duration: 25.90 seconds\n"
     ]
    },
    {
     "data": {
      "text/plain": [
       "('The recording bot has been initiated for the onboarding meeting. The current status is \"joining_call\". I will check again in a moment to confirm the recording has started.',\n",
       " 'b1047931-665b-4101-80ed-8a24187dbbd2')"
      ]
     },
     "execution_count": 7,
     "metadata": {},
     "output_type": "execute_result"
    }
   ],
   "source": [
    "# Create a meeting recorder for a specific meeting\n",
    "prompt = \"\"\"\n",
    "Can you record the onboarding meeting scheduled today? \n",
    "\"\"\"\n",
    "\n",
    "meeting_agent.run(prompt=prompt, thread_id=thread_id)"
   ]
  },
  {
   "cell_type": "markdown",
   "metadata": {},
   "source": [
    "The agent called the `XpanderMeetingManagementCreateRecordingBot` tool to create and set up a recorder for the appropriate meeting. It first fetched the meeting link, then used that link as input when initializing the recording bot. "
   ]
  },
  {
   "cell_type": "markdown",
   "metadata": {},
   "source": [
    "## Example Use Case 4: Check the Meeting Recorder Status\n",
    "\n",
    "This time, we’ll ask the agent for the status of the meeting recorder bot it created in the previous interaction. To do this, we’ll use the same thread ID from earlier runs to maintain the agent’s memory and context."
   ]
  },
  {
   "cell_type": "code",
   "execution_count": 10,
   "metadata": {},
   "outputs": [
    {
     "name": "stdout",
     "output_type": "stream",
     "text": [
      "------------------------------------------------------------\n",
      "Continuing conversation in thread: b1047931-665b-4101-80ed-8a24187dbbd2\n",
      "Processing Task: \n",
      "\n",
      "\n",
      "Check the status of the meeting recorder I just created for today's meeting.\n",
      "\n",
      "\n",
      "\n",
      "------------------------------------------------------------\n",
      "AI decided to call :  XpanderMeetingManagementCheckRecorderStatus\n",
      "With the following payload :  {'pathParams': {'recorder_id': '0a930729-5661-455e-866f-315297f69832'}}\n",
      "Executing tool calls\n",
      "Tool call function name :  XpanderMeetingManagementCheckRecorderStatus\n",
      "HTTP Status code :  200\n",
      "AI decided to call :  xpfinish-agent-execution-finished\n",
      "With the following payload :  {'bodyParams': {'result': 'The recording bot has completed the recording. The video and transcript are available at the following links:\\n\\n- Video: https://links.xpander.ai/6rs04x1\\n- Transcript: https://links.xpander.ai/basalxt\\n\\nPlease let me know if you need further assistance.', 'is_success': True}}\n",
      "Executing tool calls\n",
      "Tool call function name :  xpfinish-agent-execution-finished\n",
      "HTTP Status code :  200\n",
      "Your thread ID is: b1047931-665b-4101-80ed-8a24187dbbd2\n",
      "Status: ExecutionStatus.COMPLETED\n",
      "Result: The recording bot has completed the recording. The video and transcript are available at the following links:\n",
      "\n",
      "- Video: https://links.xpander.ai/6rs04x1\n",
      "- Transcript: https://links.xpander.ai/basalxt\n",
      "\n",
      "Please let me know if you need further assistance.\n",
      "Execution duration: 14.32 seconds\n"
     ]
    },
    {
     "data": {
      "text/plain": [
       "('The recording bot has completed the recording. The video and transcript are available at the following links:\\n\\n- Video: https://links.xpander.ai/6rs04x1\\n- Transcript: https://links.xpander.ai/basalxt\\n\\nPlease let me know if you need further assistance.',\n",
       " 'b1047931-665b-4101-80ed-8a24187dbbd2')"
      ]
     },
     "execution_count": 10,
     "metadata": {},
     "output_type": "execute_result"
    }
   ],
   "source": [
    "# Check the status of our meeting recorder\n",
    "prompt = \"\"\"\n",
    "Check the status of the meeting recorder I just created for today's meeting.\n",
    "\"\"\"\n",
    "\n",
    "meeting_agent.run(prompt=prompt, thread_id=thread_id)"
   ]
  },
  {
   "cell_type": "markdown",
   "metadata": {},
   "source": [
    "To complete the task, the agent called the `XpanderMeetingManagementCheckRecorderStatus` function to retrieve the current status of the recorder bot. Note that to use this function, the agent must provide the recorder bot ID, which it retrieved during the previous interaction.\n",
    "\n",
    "In the example above, since the recorder bot has finished recording the meeting, the recording assets, such as the video and transcript, are now available for download.\n",
    "\n"
   ]
  },
  {
   "cell_type": "markdown",
   "metadata": {},
   "source": [
    "## Example Use Case 5: Send Recording Assets via Email\n",
    "\n",
    "In the last interaction, the `XpanderMeetingManagementCheckRecorderStatus` returns meeting assets such as the meeting video and transcript after it has finished recording. We can ask the agent to send these assets via email by specifying the email address in our prompt as follows:"
   ]
  },
  {
   "cell_type": "code",
   "execution_count": 14,
   "metadata": {},
   "outputs": [
    {
     "name": "stdout",
     "output_type": "stream",
     "text": [
      "------------------------------------------------------------\n",
      "Continuing conversation in thread: b1047931-665b-4101-80ed-8a24187dbbd2\n",
      "Processing Task: \n",
      "\n",
      "\n",
      "Please send the link of the meeting assets to this email address: marcellusruben@gmail.com. \n",
      "Write a short and professional letter in the email body with the following format:\n",
      "\n",
      "Subject: Meeting Assets\n",
      "\n",
      "Dear <Recipient>,\n",
      "\n",
      "<email body>\n",
      "\n",
      "Here are the links to your assets:\n",
      "- Video: <video link>\n",
      "- Transcript: <transcript link> \n",
      "\n",
      "\n",
      "\n",
      "------------------------------------------------------------\n",
      "AI decided to call :  XpanderMessagingServiceSendEmailWithContent\n",
      "With the following payload :  {'bodyParams': {'to': ['marcellusruben@gmail.com'], 'subject': 'Meeting Assets', 'body_html': '<p>Dear Marcellus,</p><p>Please find the meeting assets below:</p><p>Here are the links to your assets:<br>- Video: <a href=\"https://links.xpander.ai/6rs04x1\">https://links.xpander.ai/6rs04x1</a><br>- Transcript: <a href=\"https://links.xpander.ai/basalxt\">https://links.xpander.ai/basalxt</a></p><p>Best regards,</p><p>Xpander AI Assistant</p>'}}\n",
      "Executing tool calls\n",
      "Tool call function name :  XpanderMessagingServiceSendEmailWithContent\n",
      "HTTP Status code :  200\n",
      "AI decided to call :  xpfinish-agent-execution-finished\n",
      "With the following payload :  {'bodyParams': {'result': 'The meeting assets have been sent to marcellusruben@gmail.com with the specified format. Let me know if you need further assistance.', 'is_success': True}}\n",
      "Executing tool calls\n",
      "Tool call function name :  xpfinish-agent-execution-finished\n",
      "HTTP Status code :  200\n",
      "Your thread ID is: b1047931-665b-4101-80ed-8a24187dbbd2\n",
      "Status: ExecutionStatus.COMPLETED\n",
      "Result: The meeting assets have been sent to marcellusruben@gmail.com with the specified format. Let me know if you need further assistance.\n",
      "Execution duration: 28.21 seconds\n"
     ]
    },
    {
     "data": {
      "text/plain": [
       "('The meeting assets have been sent to marcellusruben@gmail.com with the specified format. Let me know if you need further assistance.',\n",
       " 'b1047931-665b-4101-80ed-8a24187dbbd2')"
      ]
     },
     "execution_count": 14,
     "metadata": {},
     "output_type": "execute_result"
    }
   ],
   "source": [
    "prompt = \"\"\"\n",
    "Please send the link of the meeting assets to this email address: marcellusruben@gmail.com. \n",
    "Write a short and professional letter in the email body with the following format:\n",
    "\n",
    "Subject: Meeting Assets\n",
    "\n",
    "Dear <Recipient>,\n",
    "\n",
    "<email body>\n",
    "\n",
    "Here are the links to your assets:\n",
    "- Video: <video link>\n",
    "- Transcript: <transcript link> \n",
    "\"\"\"\n",
    "\n",
    "meeting_agent.run(prompt=prompt, thread_id=thread_id)"
   ]
  },
  {
   "cell_type": "markdown",
   "metadata": {},
   "source": [
    "As you can see, our agent called the `XpanderMessagingServiceSendEmailWithContent` function to complete the task. If you head over to the email that you specified in the prompt, you'll receive an email from the agent containing the link to the video recording as well as the transcript and the summary of the meeting.\n",
    "\n",
    "You can also inspect the workflow of your agent from xpander Workbench by clicking on the \"Activity\" view at the top of the graph visualization of your agent.\n",
    "\n",
    "![img_7](images/img_7.png)\n",
    "\n",
    "There you can inspect several types of information via two key components:\n",
    "\n",
    "- Thread: A thread is created every time you assign a task or input prompt to an agent. It includes information such as the total number of tokens generated and the creation timestamp.\n",
    "\n",
    "- Log: This contains a detailed breakdown of your agent's execution steps. You'll see the agent's responses, any tools it called, the payload used for those tool calls, and the responses received after each call.\n"
   ]
  },
  {
   "cell_type": "markdown",
   "metadata": {},
   "source": [
    "## Next Steps\n",
    "\n",
    "In this blueprint, we've created a meeting recorder agent with the help of xpander.ai and NVIDIA NIM. You can now use this blueprint as a starting point to incorporate NVIDIA AI into xpander workflow, or apply it to different use cases that combine xpander and NVIDIA NIM."
   ]
  }
 ],
 "metadata": {
  "kernelspec": {
   "display_name": "development",
   "language": "python",
   "name": "python3"
  },
  "language_info": {
   "codemirror_mode": {
    "name": "ipython",
    "version": 3
   },
   "file_extension": ".py",
   "mimetype": "text/x-python",
   "name": "python",
   "nbconvert_exporter": "python",
   "pygments_lexer": "ipython3",
   "version": "3.9.19"
  }
 },
 "nbformat": 4,
 "nbformat_minor": 2
}
