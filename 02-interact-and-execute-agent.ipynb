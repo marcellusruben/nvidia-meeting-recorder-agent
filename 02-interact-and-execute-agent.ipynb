{
 "cells": [
  {
   "cell_type": "markdown",
   "metadata": {},
   "source": [
    "# NVIDIA Meeting Recorder Agent: 02-Execute Agent\n",
    "\n",
    "\n",
    "In this notebook, we’ll execute and interact with the agent we created in the previous notebook. So before running this, make sure to execute `01-initialize-and-setup.ipynb`.\n",
    "\n",
    "We’ll be using the agent to perform several tasks, including:\n",
    "\n",
    "- Checking our meeting schedule on Google Calendar and retrieving relevant information\n",
    "\n",
    "- Creating a meeting recorder bot in Google Meet to capture the session\n",
    "\n",
    "- Sending the recording to a specified email address\n",
    "\n",
    "Along the way, we’ll explore how to persist the agent’s memory using xpander’s SDK, and see how the agent interprets our prompts to carry out the tasks.\n",
    "\n",
    "First, let’s retrieve all the necessary credentials, such as the xpander API key, NVIDIA NIM API key, and the agent ID we created in the previous notebook.\n",
    "\n"
   ]
  },
  {
   "cell_type": "code",
   "execution_count": 1,
   "metadata": {},
   "outputs": [
    {
     "name": "stdout",
     "output_type": "stream",
     "text": [
      "75afc87c-5f62-40ab-8c5e-261fb3f4a654\n",
      "✅ All required API keys loaded successfully\n",
      "Open the agent alogside this notebook at https://app.xpander.ai/agents/75afc87c-5f62-40ab-8c5e-261fb3f4a654\n"
     ]
    }
   ],
   "source": [
    "import os\n",
    "import datetime\n",
    "import time\n",
    "from dotenv import load_dotenv\n",
    "from xpander_sdk import XpanderClient, LLMProvider, ToolCall, Tokens, LLMTokens, Agent\n",
    "from openai import OpenAI\n",
    "\n",
    "# Load environment variables\n",
    "load_dotenv()\n",
    "\n",
    "# Verify required API keys are available\n",
    "xpander_api_key = os.environ.get(\"XPANDER_API_KEY\")\n",
    "agent_id = os.environ.get(\"XPANDER_AGENT_ID\")\n",
    "nvidia_nim_api_key = os.environ.get(\"NVIDIA_NIM_API_KEY\")\n",
    "\n",
    "print(agent_id)\n",
    "if not all([xpander_api_key, nvidia_nim_api_key, agent_id]):\n",
    "    missing = []\n",
    "    if not xpander_api_key: missing.append(\"XPANDER_API_KEY\")\n",
    "    if not nvidia_nim_api_key: missing.append(\"NVIDIA_NIM_API_KEY\")\n",
    "    if not agent_id: missing.append(\"XPANDER_AGENT_ID\")\n",
    "    print(f\"❗️ Missing required environment variables: {', '.join(missing)}\")\n",
    "else:\n",
    "    print(f\"✅ All required API keys loaded successfully\")\n",
    "    \n",
    "print(f\"Open the agent alogside this notebook at https://app.xpander.ai/agents/{agent_id}\")"
   ]
  },
  {
   "cell_type": "markdown",
   "metadata": {},
   "source": [
    "## Define the Meeting Agent Class\n",
    "\n",
    "Now, let’s create our `MeetingAgent` class. This class will handle both the initialization of the agent and the logic for processing input prompts and generating responses.\n",
    "\n",
    "For each prompt the agent receives, it processes the input and generates a response through a looped operation. Each iteration of the loop consists of the following steps:\n",
    "\n",
    "- The LLM generates a response based on the current state.\n",
    "\n",
    "- It evaluates whether it can complete the task directly or if it needs to call a tool (e.g., Google Calendar, xpander built-in actions, etc.).\n",
    "\n",
    "- If a tool is needed, the agent selects the appropriate tool and provides the required input arguments.\n",
    "\n",
    "- xpander executes the tool call and returns the result to the agent for the next iteration.\n",
    "\n",
    "- Once the LLM determines that it has all the necessary information to answer the user’s query, it calls the `xpfinish-agent-execution-finished` function, essentially ending the loop."
   ]
  },
  {
   "cell_type": "code",
   "execution_count": 2,
   "metadata": {},
   "outputs": [],
   "source": [
    "class MeetingAgent:\n",
    "    \"\"\"Class for running the meeting recorder agent\"\"\"\n",
    "    \n",
    "    def __init__(self, nvidia_nim_api_key, xpander_api_key, agent_id):\n",
    "        self.agent_id = agent_id\n",
    "        self.xpander_client = XpanderClient(api_key=xpander_api_key)\n",
    "        self.openai_client =  OpenAI(\n",
    "            base_url = \"https://integrate.api.nvidia.com/v1\",\n",
    "            api_key = nvidia_nim_api_key\n",
    "            )\n",
    "        self.agent : Agent = self.xpander_client.agents.get(agent_id=self.agent_id)\n",
    "\n",
    "    def run(self, prompt=None, thread_id=None, max_tool_used=4):\n",
    "        \"\"\"Run the agent with the given prompt\"\"\"\n",
    "\n",
    "        tools_to_exclude = list()\n",
    "        task = prompt or f\"Please check the status of all recorded meetings.\"\n",
    "\n",
    "        print(\"-\" * 60)\n",
    "        print(f\"{'Continuing conversation in thread: ' + thread_id if thread_id else 'Starting a new conversation thread'}\")\n",
    "        print(f\"Processing Task: \\n\\n{task}\\n\\n\")\n",
    "        print(\"-\" * 60)\n",
    "           \n",
    "        # Create task with or without thread_id\n",
    "        self.agent.add_task(input=task, thread_id=thread_id if thread_id else None)\n",
    "        self.agent.add_messages([{\"role\": \"assistant\", \"content\": \"the time now is : \" + datetime.datetime.now().strftime('%Y-%m-%d %H:%M:%S')}])\n",
    "\n",
    "        # Initialize token tracking and timing\n",
    "        execution_tokens = Tokens(worker=LLMTokens(completion_tokens=0, prompt_tokens=0, total_tokens=0))\n",
    "        execution_start_time = time.perf_counter()\n",
    "        \n",
    "        \n",
    "        # Run the agent until it's finished\n",
    "        while not self.agent.is_finished():\n",
    "\n",
    "         \n",
    "            # Track start time for this inference\n",
    "            start_time = time.perf_counter()\n",
    "\n",
    "            if len(tools_to_exclude) != 0:\n",
    "                tools = [item for item in self.agent.get_tools(llm_provider=LLMProvider.NVIDIA_NIM)\n",
    "                            if item.get(\"function\", {}).get(\"name\") not in tools_to_exclude\n",
    "                        ]\n",
    "            else:\n",
    "                tools = self.agent.get_tools(llm_provider=LLMProvider.NVIDIA_NIM)\n",
    "            \n",
    "            try:\n",
    "                    # Get response from OpenAI and process\n",
    "                    response = self.openai_client.chat.completions.create(\n",
    "                        model=\"meta/llama-3.1-405b-instruct\",\n",
    "                        messages=[self.agent.messages[0]] + self.agent.messages[-15:] if len(self.agent.messages) > 15 else self.agent.messages,\n",
    "                        tools=tools,\n",
    "                        tool_choice=self.agent.tool_choice,\n",
    "                        temperature=0.0,\n",
    "                        max_tokens=2048,\n",
    "\n",
    "                    )\n",
    "\n",
    "                    # Track token usage\n",
    "                    execution_tokens.worker.completion_tokens += response.usage.completion_tokens\n",
    "                    execution_tokens.worker.prompt_tokens += response.usage.prompt_tokens\n",
    "                    execution_tokens.worker.total_tokens += response.usage.total_tokens\n",
    "\n",
    "            except:\n",
    "                    \n",
    "                    response = self.openai_client.chat.completions.create(\n",
    "                        model=\"meta/llama-3.1-405b-instruct\",\n",
    "                        messages=[self.agent.messages[0]] + self.agent.messages[-15:] if len(self.agent.messages) > 15 else self.agent.messages,\n",
    "                        tools=self.agent.get_tools(llm_provider=LLMProvider.NVIDIA_NIM),\n",
    "                        tool_choice={\"type\": \"function\", \"function\": {\"name\": \"xpfinish-agent-execution-finished\"}},\n",
    "                        temperature=0.0,\n",
    "                        max_tokens=2048,\n",
    "                    )\n",
    "\n",
    "                    # Track token usage\n",
    "                    execution_tokens.worker.completion_tokens += response.usage.completion_tokens\n",
    "                    execution_tokens.worker.prompt_tokens += response.usage.prompt_tokens\n",
    "                    execution_tokens.worker.total_tokens += response.usage.total_tokens\n",
    "                \n",
    "            # Report LLM usage to Xpander\n",
    "            self.agent.report_llm_usage(\n",
    "                llm_response=response.model_dump(),\n",
    "                llm_inference_duration=time.perf_counter() - start_time,\n",
    "                llm_provider=LLMProvider.NVIDIA_NIM\n",
    "            )\n",
    "\n",
    "            self.agent.add_messages(response.model_dump())\n",
    "            # Extract and execute any tool calls\n",
    "            tool_calls = XpanderClient.extract_tool_calls(\n",
    "                llm_response=response.model_dump(),\n",
    "                llm_provider=LLMProvider.NVIDIA_NIM\n",
    "            )\n",
    "            \n",
    "            for tool_call in tool_calls:\n",
    "                print(\"AI decided to call : \", tool_call.name)\n",
    "                print(\"With the following payload : \", tool_call.payload)\n",
    "\n",
    "            \n",
    "            if tool_calls:\n",
    "                print(\"Executing tool calls\")\n",
    "                responses = self.agent.run_tools(tool_calls=tool_calls)\n",
    "                for response in responses:\n",
    "                    print(\"Tool call function name : \", response.function_name)\n",
    "                    print(\"HTTP Status code : \", response.status_code) \n",
    "                    if str(response.status_code) == \"200\":\n",
    "                        tools_to_exclude.append(response.function_name)         \n",
    "        \n",
    "\n",
    "        # Process results\n",
    "        execution_end_time = time.perf_counter()\n",
    "        result = self.agent.retrieve_execution_result()\n",
    "        thread_id = result.memory_thread_id\n",
    "        print(f\"Your thread ID is: {thread_id}\")\n",
    "        result_text = self.agent.messages[-1][\"content\"]\n",
    "    \n",
    "        # Report execution metrics to Xpander\n",
    "        self.agent.report_execution_metrics(\n",
    "            llm_tokens=execution_tokens,\n",
    "            ai_model=\"meta/llama-3.1-405b-instruct\"\n",
    "        )\n",
    "        print(f\"Status: {result.status}\")\n",
    "        print(f\"Result: {result_text}\")\n",
    "        print(f\"Execution duration: {execution_end_time - execution_start_time:.2f} seconds\")\n",
    "    \n",
    "        # Return both the result text and thread ID\n",
    "        return result_text, thread_id"
   ]
  },
  {
   "cell_type": "markdown",
   "metadata": {},
   "source": [
    "## Initialize the Meeting Agent\n",
    "\n",
    "Now that we’ve defined the logic for how the agent should process user prompts, let’s go ahead and initialize our meeting agent using the `MeetingAgent` class we just created.\n",
    "\n",
    "We also need to provide the agent with clear instructions, a defined role, and specific goals. This ensures that:\n",
    "\n",
    "- It understands its task and objective\n",
    "\n",
    "- It follows the correct workflow when handling user requests\n",
    "\n",
    "- It knows which tools to use in various situations to effectively complete a task"
   ]
  },
  {
   "cell_type": "code",
   "execution_count": 3,
   "metadata": {},
   "outputs": [
    {
     "name": "stderr",
     "output_type": "stream",
     "text": [
      "b'{\"stdout\":\"bG9hZGluZyBhZ2VudCA3NWFmYzg3Yy01ZjYyLTQwYWItOGM1ZS0yNjFmYjNmNGE2NTQK\"}\\n'\n",
      "b'{\"stdout\":\"cnVubmluZyB0b29sIHhwZmluaXNoLWFnZW50LWV4ZWN1dGlvbi1maW5pc2hlZCBvbiBhZ2VudCA3NWFmYzg3Yy01ZjYyLTQwYWItOGM1ZS0yNjFmYjNmNGE2NTQgd2l0aCBleGVjdXRpb24gOTllNTYwMjItZWQyYy00YTY4LWFmOWEtNzVkMzBhMWZmZGY3Cg==\"}\\n'\n"
     ]
    },
    {
     "name": "stdout",
     "output_type": "stream",
     "text": [
      "Meeting agent initialized with ID: 75afc87c-5f62-40ab-8c5e-261fb3f4a654\n"
     ]
    }
   ],
   "source": [
    "# Initialize the meeting agent\n",
    "meeting_agent = MeetingAgent(\n",
    "    nvidia_nim_api_key=nvidia_nim_api_key,\n",
    "    xpander_api_key=xpander_api_key,\n",
    "    agent_id=agent_id\n",
    ")\n",
    "\n",
    "meeting_agent.agent.instructions.general = f\"\"\"\n",
    "IMPORTANT: Always use and call `XpanderMessagingServiceSendEmailWithContent`when the user asks you to send assets to an email address. Make sure that you include the video and transcription link in the email, so that the recipient can download the recording assets by clicking the link.\n",
    "IMPORTANT: Always use `XpanderMeetingManagementCheckRecorderStatus` everytime the user asks to check the current status of the recording bot. If the recording session has been completed, this action retrieves the link of the recorded meeting.\n",
    "Be as detailed and helpful as possible when generating the response to the user.\n",
    "When calling `CalendarEventManagementGetCalendarEventsById`, use only the following keys in your queryParams: ['timeMin', 'timeMax', 'singleEvents', 'orderBy']. Specify the time in the same format as the following example: '2025-04-16T00:00:00Z'\n",
    "You can access the user’s calendar but cannot schedule events.\n",
    "Use `CalendarEventManagementGetCalendarEventsById`to get the desired event based on the ID of the user's calendar.\n",
    "Use the calendar to find meeting URLs if not provided.\n",
    "To start a recording, you must have both the meeting URL and the meeting time in UTC.\n",
    "Use `XpanderMeetingManagementCreateRerdingBot to create a recording bot. Make sure that you really create the recording bot in the meeting URL and also tell the user the recorder bot ID!\n",
    "This will return a recording bot ID.\n",
    "Check status of the recording bot using the bot ID info (The bot ID is either provided or already fetched from previous context).\n",
    "Retrieve the transcript and video also using the bot ID info.\n",
    "Do not execute any function unless it’s strictly required or explicitly requested by the user.\n",
    "\"\"\"\n",
    "\n",
    "meeting_agent.agent.instructions.role = \"\"\"\n",
    "You are a helpful meeting recorder AI agent with access to Google Calendar and Meeting Recording tools.\n",
    "\"\"\"\n",
    "\n",
    "meeting_agent.agent.instructions.goal = \"\"\"\n",
    "Your goal is to help users answer their query, record their meetings, check the status of the recording tools, and get the assets of the recorded meeting using the recording bot id.\n",
    "\"\"\"\n",
    "\n",
    "print(f\"Meeting agent initialized with ID: {meeting_agent.agent_id}\")"
   ]
  },
  {
   "cell_type": "markdown",
   "metadata": {},
   "source": [
    "## Example Use Case 1: Test Agent's Capabilities\n",
    "\n",
    "Once we have setup everything, let's test the agent capabilities by using the following prompt:"
   ]
  },
  {
   "cell_type": "code",
   "execution_count": 4,
   "metadata": {},
   "outputs": [
    {
     "name": "stdout",
     "output_type": "stream",
     "text": [
      "------------------------------------------------------------\n",
      "Starting a new conversation thread\n",
      "Processing Task: \n",
      "\n",
      "\n",
      "Hi! What can you do?\n",
      "\n",
      "\n",
      "\n",
      "------------------------------------------------------------\n",
      "AI decided to call :  xpfinish-agent-execution-finished\n",
      "With the following payload :  {'bodyParams': {'result': 'I can help users answer their query, record their meetings, check the status of the recording tools, and get the assets of the recorded meeting using the recording bot id.', 'is_success': True, 'agent_builder_agent_id': '02e491f0-d42f-4241-ba76-632e5f792011', 'agent_builder_ai_employee_id': '02e491f0-d42f-4241-ba76-632t12792011'}, 'queryParams': {}, 'pathParams': {}, 'headers': {}}\n",
      "Executing tool calls\n",
      "Tool call function name :  xpfinish-agent-execution-finished\n",
      "HTTP Status code :  200\n",
      "Your thread ID is: 82f824d6-5b1a-480d-b6fb-bda591a2c5b8\n",
      "Status: ExecutionStatus.COMPLETED\n",
      "Result: \"I can help users answer their query, record their meetings, check the status of the recording tools, and get the assets of the recorded meeting using the recording bot id.\"\n",
      "Execution duration: 224.02 seconds\n"
     ]
    }
   ],
   "source": [
    "prompt = \"\"\"\n",
    "Hi! What can you do?\n",
    "\"\"\"\n",
    "\n",
    "result, thread_id = meeting_agent.run(prompt=prompt)"
   ]
  },
  {
   "cell_type": "markdown",
   "metadata": {},
   "source": [
    "## Example Use Case 2: Retrieve Upcoming Calendar Events\n",
    "\n",
    "Since our agent now has access to Google Calendar, we can ask it to retrieve upcoming meetings from our schedule. To execute the agent with memory persistence, use the thread ID retrieved from the previous interaction and pass it as an argument along with your prompt."
   ]
  },
  {
   "cell_type": "code",
   "execution_count": 4,
   "metadata": {},
   "outputs": [
    {
     "name": "stdout",
     "output_type": "stream",
     "text": [
      "------------------------------------------------------------\n",
      "Starting a new conversation thread\n",
      "Processing Task: \n",
      "\n",
      "\n",
      "Please list my scheduled meetings for today.\n",
      "\n",
      "\n",
      "\n",
      "------------------------------------------------------------\n",
      "AI decided to call :  CalendarEventManagementGetCalendarEventsById\n",
      "With the following payload :  {'bodyParams': {}, 'queryParams': {'timeMin': '2025-04-21T00:00:00Z', 'timeMax': '2025-04-21T23:59:59Z', 'singleEvents': True, 'orderBy': 'startTime'}, 'pathParams': {'calendarId': 'primary'}, 'headers': {}}\n",
      "Executing tool calls\n",
      "Tool call function name :  CalendarEventManagementGetCalendarEventsById\n",
      "HTTP Status code :  200\n",
      "AI decided to call :  xpfinish-agent-execution-finished\n",
      "With the following payload :  {'bodyParams': {'result': 'You have one scheduled meeting for today: Sales Meeting at 21:30:00+02:00. The meeting URL is: https://meet.google.com/srq-owyu-jor', 'is_success': True}, 'queryParams': {}, 'pathParams': {}, 'headers': {}}\n",
      "Executing tool calls\n",
      "Tool call function name :  xpfinish-agent-execution-finished\n",
      "HTTP Status code :  200\n",
      "Your thread ID is: 74191cdf-dcc7-40b6-adbf-dfccb1432413\n",
      "Status: ExecutionStatus.COMPLETED\n",
      "Result: \"You have one scheduled meeting for today: Sales Meeting at 21:30:00+02:00. The meeting URL is: https://meet.google.com/srq-owyu-jor\"\n",
      "Execution duration: 227.93 seconds\n"
     ]
    }
   ],
   "source": [
    "# Use the same thread_id to maintain context \n",
    "prompt = \"\"\"\n",
    "Please list my scheduled meetings for today.\n",
    "\"\"\"\n",
    "\n",
    "meeting_agent.run(prompt=prompt, thread_id=thread_id)"
   ]
  },
  {
   "cell_type": "markdown",
   "metadata": {},
   "source": [
    "As you can see, the agent called `CalendarEventManagementGetCalendarEventsById` to retrieve the ID of the relevant event from our Google Calendar. Once it had all the necessary information, it called `xpfinish-agent-execution-finished` to signal that it was ready to generate a response for the user.\n",
    "\n",
    "After completing the task, xpander generates a thread ID for the agent's run. This thread ID is crucial for maintaining conversation history. It allows the agent to understand context and handle follow-up questions related to a previous query. We can simply include the same thread ID in subsequent prompts."
   ]
  },
  {
   "cell_type": "markdown",
   "metadata": {},
   "source": [
    "## Example Use Case 3: Set Up Meeting Recorder\n",
    "\n",
    "We can also ask our agent to set up a recording bot for a particular meeting with prompt similar to this:"
   ]
  },
  {
   "cell_type": "code",
   "execution_count": 5,
   "metadata": {},
   "outputs": [
    {
     "name": "stdout",
     "output_type": "stream",
     "text": [
      "------------------------------------------------------------\n",
      "Continuing conversation in thread: 74191cdf-dcc7-40b6-adbf-dfccb1432413\n",
      "Processing Task: \n",
      "\n",
      "\n",
      "Can you record the meeting scheduled today? Please give me the recorder ID as well.\n",
      "\n",
      "\n",
      "\n",
      "------------------------------------------------------------\n",
      "AI decided to call :  CalendarEventManagementGetCalendarEventsById\n",
      "With the following payload :  {'bodyParams': {}, 'queryParams': {'timeMin': '2025-04-21T00:00:00Z', 'timeMax': '2025-04-21T23:59:59Z', 'singleEvents': True, 'orderBy': 'startTime'}, 'pathParams': {'calendarId': 'primary'}, 'headers': {}}\n",
      "Executing tool calls\n",
      "Tool call function name :  CalendarEventManagementGetCalendarEventsById\n",
      "HTTP Status code :  200\n",
      "AI decided to call :  XpanderMeetingManagementCreateRecordingBot\n",
      "With the following payload :  {'bodyParams': {'bot_name': 'Sales Meeting Recorder', 'meeting_url': 'https://meet.google.com/srq-owyu-jor', 'scheduled_time': '2025-04-21T21:30:00+02:00'}, 'queryParams': {}, 'pathParams': {}, 'headers': {}}\n",
      "Executing tool calls\n",
      "Tool call function name :  XpanderMeetingManagementCreateRecordingBot\n",
      "HTTP Status code :  200\n",
      "AI decided to call :  xpfinish-agent-execution-finished\n",
      "With the following payload :  {'bodyParams': {'result': 'The meeting recording bot has been created successfully. The recorder ID is d30bff02-0721-4a82-8c70-114f7c8805c4', 'is_success': True}, 'queryParams': {}, 'pathParams': {}, 'headers': {}}\n",
      "Executing tool calls\n",
      "Tool call function name :  xpfinish-agent-execution-finished\n",
      "HTTP Status code :  200\n",
      "Your thread ID is: 74191cdf-dcc7-40b6-adbf-dfccb1432413\n",
      "Status: ExecutionStatus.COMPLETED\n",
      "Result: \"The meeting recording bot has been created successfully. The recorder ID is d30bff02-0721-4a82-8c70-114f7c8805c4\"\n",
      "Execution duration: 326.60 seconds\n"
     ]
    },
    {
     "data": {
      "text/plain": [
       "('\"The meeting recording bot has been created successfully. The recorder ID is d30bff02-0721-4a82-8c70-114f7c8805c4\"',\n",
       " '74191cdf-dcc7-40b6-adbf-dfccb1432413')"
      ]
     },
     "execution_count": 5,
     "metadata": {},
     "output_type": "execute_result"
    }
   ],
   "source": [
    "prompt = \"\"\"\n",
    "Can you record the meeting scheduled today? Please give me the recorder ID as well.\n",
    "\"\"\"\n",
    "\n",
    "meeting_agent.run(prompt=prompt, thread_id=thread_id)"
   ]
  },
  {
   "cell_type": "markdown",
   "metadata": {},
   "source": [
    "The agent called the `XpanderMeetingManagementCreateRecordingBot` function to create and set up a recorder for the appropriate meeting. It first fetched the meeting link, then used that link as input when initializing the recording bot. "
   ]
  },
  {
   "cell_type": "markdown",
   "metadata": {},
   "source": [
    "## Example Use Case 4: Check the Meeting Recorder Status\n",
    "\n",
    "This time, we’ll ask the agent for the status of the meeting recorder bot it created in the previous interaction. To do this, we’ll use the same thread ID from earlier runs to maintain the agent’s memory and context."
   ]
  },
  {
   "cell_type": "code",
   "execution_count": 7,
   "metadata": {},
   "outputs": [
    {
     "name": "stdout",
     "output_type": "stream",
     "text": [
      "------------------------------------------------------------\n",
      "Continuing conversation in thread: 74191cdf-dcc7-40b6-adbf-dfccb1432413\n",
      "Processing Task: \n",
      "\n",
      "\n",
      "Please check the current status of the meeting recorder bot.\n",
      "\n",
      "\n",
      "\n",
      "------------------------------------------------------------\n",
      "AI decided to call :  CalendarEventManagementGetCalendarEventsById\n",
      "With the following payload :  {'bodyParams': {}, 'queryParams': {'timeMin': '2025-04-21T00:00:00Z', 'timeMax': '2025-04-21T23:59:59Z', 'singleEvents': True, 'orderBy': 'startTime'}, 'pathParams': {'calendarId': 'primary'}, 'headers': {}}\n",
      "Executing tool calls\n",
      "Tool call function name :  CalendarEventManagementGetCalendarEventsById\n",
      "HTTP Status code :  200\n",
      "AI decided to call :  XpanderMeetingManagementCheckRecorderStatus\n",
      "With the following payload :  {'bodyParams': {}, 'queryParams': {}, 'pathParams': {'recorder_id': 'd30bff02-0721-4a82-8c70-114f7c8805c4'}, 'headers': {}}\n",
      "Executing tool calls\n",
      "Tool call function name :  XpanderMeetingManagementCheckRecorderStatus\n",
      "HTTP Status code :  200\n",
      "AI decided to call :  xpfinish-agent-execution-finished\n",
      "With the following payload :  {'bodyParams': {'result': 'The recording bot has finished recording the meeting. The video and transcript are available at the following links: https://links.xpander.ai/s2b8gy3 and https://links.xpander.ai/9yfp0y4', 'is_success': True, 'agent_builder_agent_id': '02e491f0-d42f-4241-ba76-632e5f792011', 'agent_builder_ai_employee_id': '02e491f0-d42f-4241-ba76-632t12792011'}, 'queryParams': {}, 'pathParams': {}, 'headers': {}}\n",
      "Executing tool calls\n",
      "Tool call function name :  xpfinish-agent-execution-finished\n",
      "HTTP Status code :  200\n",
      "Your thread ID is: 74191cdf-dcc7-40b6-adbf-dfccb1432413\n",
      "Status: ExecutionStatus.COMPLETED\n",
      "Result: \"The recording bot has finished recording the meeting. The video and transcript are available at the following links: https://links.xpander.ai/s2b8gy3 and https://links.xpander.ai/9yfp0y4\"\n",
      "Execution duration: 606.75 seconds\n"
     ]
    },
    {
     "data": {
      "text/plain": [
       "('\"The recording bot has finished recording the meeting. The video and transcript are available at the following links: https://links.xpander.ai/s2b8gy3 and https://links.xpander.ai/9yfp0y4\"',\n",
       " '74191cdf-dcc7-40b6-adbf-dfccb1432413')"
      ]
     },
     "execution_count": 7,
     "metadata": {},
     "output_type": "execute_result"
    }
   ],
   "source": [
    "prompt = \"\"\"\n",
    "Please check the current status of the meeting recorder bot.\n",
    "\"\"\"\n",
    "\n",
    "meeting_agent.run(prompt=prompt, thread_id=thread_id)"
   ]
  },
  {
   "cell_type": "markdown",
   "metadata": {},
   "source": [
    "To complete the task, the agent called the `XpanderMeetingManagementCheckRecorderStatus` function to retrieve the current status of the recorder bot. Note that to use this function, the agent must provide the recorder bot ID, which it retrieved during the previous interaction.\n",
    "\n",
    "In the example above, since the recorder bot has finished recording the meeting, the recording assets, such as the video and transcript, are now available for download.\n",
    "\n"
   ]
  },
  {
   "cell_type": "markdown",
   "metadata": {},
   "source": [
    "## Example Use Case 5: Send Recording Assets via Email\n",
    "\n",
    "In the last interaction, the `XpanderMeetingManagementCheckRecorderStatus` returns meeting assets such as the meeting video and transcript after it has finished recording. We can ask the agent to send these assets via email by specifying the email address in our prompt as follows:"
   ]
  },
  {
   "cell_type": "code",
   "execution_count": 8,
   "metadata": {},
   "outputs": [
    {
     "name": "stdout",
     "output_type": "stream",
     "text": [
      "------------------------------------------------------------\n",
      "Continuing conversation in thread: 74191cdf-dcc7-40b6-adbf-dfccb1432413\n",
      "Processing Task: \n",
      "\n",
      "\n",
      "Please send the link of the recording video and transcript to this email address: marcellusruben@gmail.com.\n",
      "Write a short and professional letter in the email body.\n",
      "\n",
      "\n",
      "\n",
      "------------------------------------------------------------\n",
      "AI decided to call :  CalendarEventManagementGetCalendarEventsById\n",
      "With the following payload :  {'bodyParams': {}, 'queryParams': {'timeMin': '2025-04-21T00:00:00Z', 'timeMax': '2025-04-21T23:59:59Z', 'singleEvents': True, 'orderBy': 'startTime'}, 'pathParams': {'calendarId': 'primary'}, 'headers': {}}\n",
      "Executing tool calls\n",
      "Tool call function name :  CalendarEventManagementGetCalendarEventsById\n",
      "HTTP Status code :  200\n",
      "AI decided to call :  XpanderMessagingServiceSendEmailWithContent\n",
      "With the following payload :  {'bodyParams': {'to': ['marcellusruben@gmail.com'], 'subject': 'Meeting Recording Assets', 'body_html': '<p>Dear Marcellus Ruben,</p><p>I hope this email finds you well.</p><p>As per your request, I am sending you the recording assets for the meeting that took place on April 21, 2025.</p><p>Below are the links to the recording video and transcript:</p><p><a href='}, 'queryParams': {}, 'pathParams': {}, 'headers': {}}\n",
      "Executing tool calls\n",
      "Tool call function name :  XpanderMessagingServiceSendEmailWithContent\n",
      "HTTP Status code :  200\n",
      "AI decided to call :  xpfinish-agent-execution-finished\n",
      "With the following payload :  {'bodyParams': {'result': 'I have finished my job successfully. I have sent the recording assets to the email address marcellusruben@gmail.com.', 'is_success': True}, 'queryParams': {}, 'pathParams': {}, 'headers': {}}\n",
      "Executing tool calls\n",
      "Tool call function name :  xpfinish-agent-execution-finished\n",
      "HTTP Status code :  200\n",
      "Your thread ID is: 74191cdf-dcc7-40b6-adbf-dfccb1432413\n",
      "Status: ExecutionStatus.COMPLETED\n",
      "Result: \"I have finished my job successfully. I have sent the recording assets to the email address marcellusruben@gmail.com.\"\n",
      "Execution duration: 444.80 seconds\n"
     ]
    },
    {
     "data": {
      "text/plain": [
       "('\"I have finished my job successfully. I have sent the recording assets to the email address marcellusruben@gmail.com.\"',\n",
       " '74191cdf-dcc7-40b6-adbf-dfccb1432413')"
      ]
     },
     "execution_count": 8,
     "metadata": {},
     "output_type": "execute_result"
    }
   ],
   "source": [
    "prompt = \"\"\"\n",
    "Please send the link of the recording video and transcript to this email address: marcellusruben@gmail.com.\n",
    "Write a short and professional letter in the email body.\n",
    "\"\"\"\n",
    "\n",
    "meeting_agent.run(prompt=prompt, thread_id=thread_id)"
   ]
  },
  {
   "cell_type": "markdown",
   "metadata": {},
   "source": [
    "As you can see, our agent called the `XpanderMessagingServiceSendEmailWithContent` function to complete the task. If you head over to the email that you specified in the prompt, you'll receive an email from the agent containing the link to the video recording as well as the transcript.\n",
    "\n",
    "You can also inspect the workflow of your agent from xpander Workbench by clicking on the \"Activity\" view at the top of the graph visualization of your agent.\n",
    "\n",
    "![img_7](images/img_7.png)\n",
    "\n",
    "There you can inspect several types of information via two key components:\n",
    "\n",
    "- Thread: A thread is created every time you assign a task or input prompt to an agent. It includes information such as the total number of tokens generated and the creation timestamp.\n",
    "\n",
    "- Log: This contains a detailed breakdown of your agent's execution steps. You'll see the agent's responses, any tools it called, the payload used for those tool calls, and the responses received after each call.\n"
   ]
  },
  {
   "cell_type": "markdown",
   "metadata": {},
   "source": [
    "## Next Steps\n",
    "\n",
    "In this blueprint, we've created a meeting recorder agent with the help of xpander.ai and NVIDIA NIM. You can now explore more use cases by integrating your agent with different SaaS platforms using xpander.ai.\n",
    "\n",
    "You can also explore and build the agent with more powerful LLMs to ensure more accurate tool calling and response generation results."
   ]
  }
 ],
 "metadata": {
  "kernelspec": {
   "display_name": "development",
   "language": "python",
   "name": "python3"
  },
  "language_info": {
   "codemirror_mode": {
    "name": "ipython",
    "version": 3
   },
   "file_extension": ".py",
   "mimetype": "text/x-python",
   "name": "python",
   "nbconvert_exporter": "python",
   "pygments_lexer": "ipython3",
   "version": "3.9.19"
  }
 },
 "nbformat": 4,
 "nbformat_minor": 2
}
