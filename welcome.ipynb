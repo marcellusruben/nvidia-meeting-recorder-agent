{
 "cells": [
  {
   "cell_type": "markdown",
   "metadata": {},
   "source": [
    "<div style=\"text-align: center; margin-bottom: 30px;\">\n",
    "  <img src=\"images/recorder.png\" style=\"height: 300px; margin-bottom: 10px;\" />\n",
    "  <h1 style=\"margin: 0; font-size: 2.2em; font-weight: bold;\">Welcome to the AI Meeting Recorder Agent Notebook</h1>\n",
    "  <p style=\"font-size: 1.2em; color: #999; max-width: 800px; margin: 10px auto 0;\">\n",
    "    Build an intelligent meeting recorder agent that can capture, transcribe, and summarize—all powered by xpander.ai’s modular, stateful AI framework.\n",
    "  </p>\n",
    "</div>\n",
    "\n",
    "This notebook is part of the **xpander.ai Agent SDK** and showcases how to deploy an AI-powered agent that records, transcribes, and summarizes meetings—fully integrated into your workflow.\n",
    "\n",
    "Built using **xpander’s stateful AI architecture**, this tutorial is a hands-on guide to building production-grade agents with minimal overhead and maximum flexibility.\n",
    "\n",
    "---\n",
    "\n",
    "## 🔧 Features\n",
    "\n",
    "- 🎙️ Automated meeting recording and transcription  \n",
    "- 📊 Live status monitoring of the agent operations\n",
    "- 📩 Email notifications on key events and summariziation of the transcript\n",
    "- 📅 Calendar integration for seamless scheduling of recording bots\n",
    "\n",
    "---\n",
    "\n",
    "## 🚀 Getting Started\n",
    "\n",
    "1. **Clone this repo and launch the notebook from the machine you want the agent**\n",
    "2. **Create a `.env` file** with your `XPANDER_API_KEY` (Get it from https://app.xpander.ai -> Settings -> API Keys)\n",
    "3. **Launch the agent template** OR use step1-create-agent notebook to understand how to create agent without the template"
   ]
  }
 ],
 "metadata": {
  "language_info": {
   "name": "python"
  }
 },
 "nbformat": 4,
 "nbformat_minor": 2
}
